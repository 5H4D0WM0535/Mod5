{
 "cells": [
  {
   "cell_type": "markdown",
   "id": "8a57f046-03ca-4d54-8614-cf65e36f1b44",
   "metadata": {},
   "source": [
    "## 1. Count Even Numbers\n",
    "\n",
    "**Objective:** Write a program that counts the number of even numbers in a given list.\n",
    "\n",
    "**Outline:** Use a for loop to iterate through the list, and an if statement to check if each number is even."
   ]
  },
  {
   "cell_type": "code",
   "execution_count": null,
   "id": "e90b5b89-5cab-41e5-b876-39718816e50f",
   "metadata": {},
   "outputs": [],
   "source": [
    "numbers = [1, 2, 3, 4, 5, 6, 7, 8, 9, 10]\n",
    "even_count = 0\n",
    "\n",
    "#REPLACE AND WRITE YOUR CODE HERE!\n",
    "\n",
    "print(f\"Number of even numbers: {even_count}\")"
   ]
  },
  {
   "cell_type": "markdown",
   "id": "3bdafbe4-cd46-49b4-ab42-a5b0ded48e28",
   "metadata": {},
   "source": [
    "## 2. Sum Until Negative\n",
    "\n",
    "**Objective:** Calculate the sum of numbers input(**remember to convert to int**) by the user until a negative number is entered.\n",
    "\n",
    "**Outline:** Use a while loop to keep asking for input, and an if statement to break the loop if a negative number is entered. Sum the positive numbers."
   ]
  },
  {
   "cell_type": "code",
   "execution_count": null,
   "id": "9bc52eca-4270-4079-9219-628bc47242a9",
   "metadata": {},
   "outputs": [],
   "source": [
    "total_sum = 0\n",
    "\n",
    "#REPLACE AND WRITE YOUR CODE HERE!\n",
    "\n",
    "print(f\"Total sum: {total_sum}\")"
   ]
  },
  {
   "cell_type": "markdown",
   "id": "4d81f5f9-c827-4620-934c-f664a89f52df",
   "metadata": {},
   "source": [
    "## 3. Find First Vowel\n",
    "\n",
    "**Objective:** Find the first vowel in a given string.\n",
    "\n",
    "**Outline:** Use a for loop to iterate through the string, and an if statement to check if a character is a vowel. Save the vowel to the variable first_vowel. Then break out of the loop."
   ]
  },
  {
   "cell_type": "code",
   "execution_count": null,
   "id": "b7ab612a-95f4-4b35-8acb-20fb1b399172",
   "metadata": {},
   "outputs": [],
   "source": [
    "string = \"hello world\"\n",
    "vowels = \"aeiou\"\n",
    "first_vowel = None\n",
    "\n",
    "#REPLACE AND WRITE YOUR CODE HERE!\n",
    "\n",
    "print(f\"First vowel: {first_vowel}\")"
   ]
  },
  {
   "cell_type": "markdown",
   "id": "cc03f74c-9346-4284-816a-702fcb3a86f3",
   "metadata": {},
   "source": [
    "## 4. Count Words with a Specific Letter\n",
    "\n",
    "**Objective:** Count the number of words in a list that contain a specific letter.\n",
    "\n",
    "**Outline:** Use a for loop to iterate through the list, and an if statement to check if each word contains the specified letter."
   ]
  },
  {
   "cell_type": "code",
   "execution_count": null,
   "id": "e9a6f34a-fc02-4bfb-bd6c-b0a560767c6d",
   "metadata": {},
   "outputs": [],
   "source": [
    "words = [\"apple\", \"banana\", \"cherry\", \"date\", \"plum\", \"grape\"]\n",
    "letter = \"a\"\n",
    "count = 0\n",
    "\n",
    "#REPLACE AND WRITE YOUR CODE HERE!\n",
    "\n",
    "print(f\"Words containing '{letter}': {count}\")"
   ]
  },
  {
   "cell_type": "markdown",
   "id": "ab3dfd8e-6bd3-4a0d-a5c3-0f4b4ea391a2",
   "metadata": {},
   "source": [
    "## 5. Find the Maximum Number\n",
    "\n",
    "**Objective:** Write a program that finds the maximum number in a given list.\n",
    "    \n",
    "**Outline:** Use a for loop to iterate through the list, and an if statement to compare each number with the current maximum."
   ]
  },
  {
   "cell_type": "code",
   "execution_count": null,
   "id": "142a27c7-c183-4ab1-9de3-ca3000bfba1e",
   "metadata": {},
   "outputs": [],
   "source": [
    "numbers = [3, 7, 2, 9, 4, 5]\n",
    "max_number = numbers[0] #Initally set to the first number in the list\n",
    "\n",
    "#REPLACE AND WRITE YOUR CODE HERE!\n",
    "\n",
    "print(f\"Maximum number: {max_number}\")"
   ]
  },
  {
   "cell_type": "markdown",
   "id": "f6ef135c-1857-466a-9296-ed36f57c92cd",
   "metadata": {},
   "source": [
    "## 6. Deck of Cards\n",
    "\n",
    "**Objective:** Create a deck of cards (52 cards) with suits (CDHS) and ranks (23456789TJQKA). Append each card to a list.\n",
    "\n",
    "**Outline:** Use nested for loops to iterate through suits and ranks, creating each card and appending it to the deck."
   ]
  },
  {
   "cell_type": "code",
   "execution_count": null,
   "id": "63e19f68-ee78-438c-bca7-812831547699",
   "metadata": {},
   "outputs": [],
   "source": [
    "# Define suits and ranks\n",
    "suits = 'CDHS'\n",
    "ranks = '23456789TJQKA'\n",
    "\n",
    "# Create an empty deck list\n",
    "deck = []\n",
    "\n",
    "#REPLACE AND WRITE YOUR CODE HERE!\n",
    "\n",
    "print(deck)"
   ]
  },
  {
   "cell_type": "markdown",
   "id": "16b46db9-d2c3-4ef3-9734-aa0dba1b2b1c",
   "metadata": {},
   "source": [
    "## 7. Final Challenge Guess the Number Game\n",
    "\n",
    "**Objective:** Create a simple game where the user has to guess a randomly generated number between 1 and 100.\n",
    "\n",
    "**Outline:** Generate a random number and repeatedly prompt the user to guess the number, providing feedback whether the guess is too high, too low, or correct. Use a while loop to keep asking until the user guesses the correct number. Take your time to plan out the game logic don't jump straight in."
   ]
  },
  {
   "cell_type": "code",
   "execution_count": null,
   "id": "eed16746-fca0-4232-9821-86f8638ab335",
   "metadata": {},
   "outputs": [],
   "source": [
    "import random\n",
    "\n",
    "# Generate a random number between 1 and 100\n",
    "target_number = random.randint(1, 100)\n",
    "\n",
    "# Initialize the guess variable\n",
    "guess = None\n",
    "\n",
    "print(\"Guess the number between 1 and 100!\")\n",
    "\n",
    "#REPLACE AND WRITE YOUR CODE HERE!\n",
    "\n",
    "print(\"Game Over\")"
   ]
  }
 ],
 "metadata": {
  "kernelspec": {
   "display_name": "Python 3 (ipykernel)",
   "language": "python",
   "name": "python3"
  },
  "language_info": {
   "codemirror_mode": {
    "name": "ipython",
    "version": 3
   },
   "file_extension": ".py",
   "mimetype": "text/x-python",
   "name": "python",
   "nbconvert_exporter": "python",
   "pygments_lexer": "ipython3",
   "version": "3.11.7"
  }
 },
 "nbformat": 4,
 "nbformat_minor": 5
}
