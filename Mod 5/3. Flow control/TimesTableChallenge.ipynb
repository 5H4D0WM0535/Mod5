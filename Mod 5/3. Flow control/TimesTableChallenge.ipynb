{
 "cells": [
  {
   "cell_type": "markdown",
   "id": "57af54f6-10b8-45de-b243-6f78277e01c7",
   "metadata": {},
   "source": [
    "### Times Table Challenge\n",
    "\n",
    "Create a program that generates and displays a times table. Here are the requirements:\n",
    "\n",
    "1. **Input**: \n",
    "   - Prompt the user to enter a number for which times table they want to see (e.g., 5 for the 5 times table).\n",
    "\n",
    "2. **Output**: \n",
    "   - Display the times table for the input number from 1 to 10.\n",
    "\n",
    "3. **Example Output**:\n",
    "   - If the user enters 5, the program should output:\n",
    "     ```\n",
    "     5 x 1 = 5\n",
    "     5 x 2 = 10\n",
    "     5 x 3 = 15\n",
    "     5 x 4 = 20\n",
    "     5 x 5 = 25\n",
    "     5 x 6 = 30\n",
    "     5 x 7 = 35\n",
    "     5 x 8 = 40\n",
    "     5 x 9 = 45\n",
    "     5 x 10 = 50\n",
    "     ```\n",
    "\n",
    "4. **Notes**:\n",
    "   - Ensure the output is formatted neatly.\n",
    "   - Use a loop structure to generate the times table."
   ]
  },
  {
   "cell_type": "markdown",
   "id": "e0b24984-ffdb-4952-a78b-118c523500e7",
   "metadata": {},
   "source": [
    "### Challenge: Printing the First 10 Times Tables Using Nested Loops\n",
    "\n",
    "Create a program that prints the times tables from 1 to 10 using nested loops. Here are the requirements:\n",
    "\n",
    "1. **Output Format**:\n",
    "   - For each number from 1 to 10, print its times table up to 10.\n",
    "\n",
    "2. **Example Output**:\n",
    "   - The program should output:\n",
    "     ```\n",
    "     Times Table for 1:\n",
    "     1 x 1 = 1\n",
    "     1 x 2 = 2\n",
    "     ...\n",
    "     1 x 10 = 10\n",
    "\n",
    "     Times Table for 2:\n",
    "     2 x 1 = 2\n",
    "     2 x 2 = 4\n",
    "     ...\n",
    "     2 x 10 = 20\n",
    "\n",
    "     ... (up to 10)\n",
    "     ```\n",
    "\n",
    "3. **Hints**:\n",
    "   - Use nested loops: an outer loop to iterate through each number from 1 to 10, and an inner loop to iterate from 1 to 10 for each number.\n",
    "   - Format the output neatly to display each multiplication operation.\n",
    "\n",
    "4. **Challenge**:\n",
    "   - Modify your program to print the times tables in a formatted table structure for better readability.\n",
    "\n",
    "Enjoy solving this challenge to reinforce your understanding of nested loops and multiplication tables!\n"
   ]
  },
  {
   "cell_type": "code",
   "execution_count": null,
   "id": "87c56bd3-3316-4d0d-8372-727e6250afa4",
   "metadata": {},
   "outputs": [],
   "source": []
  }
 ],
 "metadata": {
  "kernelspec": {
   "display_name": "Python 3 (ipykernel)",
   "language": "python",
   "name": "python3"
  },
  "language_info": {
   "codemirror_mode": {
    "name": "ipython",
    "version": 3
   },
   "file_extension": ".py",
   "mimetype": "text/x-python",
   "name": "python",
   "nbconvert_exporter": "python",
   "pygments_lexer": "ipython3",
   "version": "3.11.7"
  }
 },
 "nbformat": 4,
 "nbformat_minor": 5
}
