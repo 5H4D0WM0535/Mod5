{
 "cells": [
  {
   "cell_type": "markdown",
   "id": "fbd7dc79-f531-4a11-9bc1-ecae650633bc",
   "metadata": {},
   "source": [
    "### Calculator Challenge\n",
    "\n",
    "Create a Python program that acts as a simple calculator. Your calculator should:\n",
    "\n",
    "1. Prompt the user to choose an operation (addition, subtraction, multiplication, division).\n",
    "2. Prompt the user to enter two numbers.\n",
    "3. Perform the selected operation on the two numbers.\n",
    "4. Display the result to the user.\n",
    "\n",
    "### Requirements\n",
    "\n",
    "- Implement four functions: `add`, `subtract`, `multiply`, and `divide`, each taking two parameters (two numbers) and returning the result of the operation.\n",
    "- Use input statements to get user input for the operation choice and the two numbers.\n",
    "- Handle invalid inputs gracefully (e.g., non-numeric inputs).\n",
    "- Include a loop that allows the user to perform multiple calculations until they choose to exit.\n",
    "\n",
    "### Example Interaction"
   ]
  },
  {
   "cell_type": "raw",
   "id": "82d480e1-ed13-4450-b637-75db9c91fadf",
   "metadata": {},
   "source": [
    "Welcome to Simple Calculator!\n",
    "\n",
    "Choose an operation:\n",
    "1. Addition\n",
    "2. Subtraction\n",
    "3. Multiplication\n",
    "4. Division\n",
    "5. Exit\n",
    "\n",
    "Enter your choice (1/2/3/4/5): 1\n",
    "Enter first number: 10\n",
    "Enter second number: 5\n",
    "Result: 10 + 5 = 15\n",
    "\n",
    "Do you want to perform another calculation? (yes/no): yes\n",
    "\n",
    "Choose an operation:\n",
    "1. Addition\n",
    "2. Subtraction\n",
    "3. Multiplication\n",
    "4. Division\n",
    "5. Exit\n",
    "\n",
    "Enter your choice (1/2/3/4/5): 3\n",
    "Enter first number: 7\n",
    "Enter second number: 3\n",
    "Result: 7 * 3 = 21\n",
    "\n",
    "Do you want to perform another calculation? (yes/no): no\n",
    "\n",
    "Exiting the calculator. Thank you!"
   ]
  },
  {
   "cell_type": "markdown",
   "id": "b4a5794a-76b7-4c8c-a12f-40f9d168c777",
   "metadata": {},
   "source": [
    "\n",
    "### Implementation Guidelines\r\n",
    "\r\n",
    "- Use functions to encapsulate the logic for each arithmetic operation.\r\n",
    "- Use a loop to allow the user to perform multiple calculations until they choose to exit.\r\n",
    "- Provide clear prompts and outputs to guide the user through the calculator's operation.\r\n",
    "- Handle edge cases such as division by zero or invalid inputs (e.g., non-numeric inputs) appropriately.\r\n",
    "\r\n",
    "This challenge will help you practice basic Python programming concepts such as functions, user input, conditionals, loops, and error handling. Have funcoding!\r\n"
   ]
  },
  {
   "cell_type": "code",
   "execution_count": null,
   "id": "505c554e-2120-4269-a7a2-feb40fd99361",
   "metadata": {},
   "outputs": [],
   "source": []
  }
 ],
 "metadata": {
  "kernelspec": {
   "display_name": "Python 3 (ipykernel)",
   "language": "python",
   "name": "python3"
  },
  "language_info": {
   "codemirror_mode": {
    "name": "ipython",
    "version": 3
   },
   "file_extension": ".py",
   "mimetype": "text/x-python",
   "name": "python",
   "nbconvert_exporter": "python",
   "pygments_lexer": "ipython3",
   "version": "3.11.7"
  }
 },
 "nbformat": 4,
 "nbformat_minor": 5
}
