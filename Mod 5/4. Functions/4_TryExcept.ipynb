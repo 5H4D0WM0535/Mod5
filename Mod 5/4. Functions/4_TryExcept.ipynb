{
 "cells": [
  {
   "cell_type": "markdown",
   "metadata": {},
   "source": [
    "# Exception Handling in Python\n",
    "\n",
    "Exception handling is a crucial part of writing robust and error-free Python code. It allows you to manage errors and exceptions gracefully, providing informative feedback and preventing your program from crashing unexpectedly.\n",
    "\n",
    "In Python, we use `try` and `except` blocks to handle exceptions. This notebook will guide you through the basics of exception handling with examples.\n"
   ]
  },
  {
   "cell_type": "markdown",
   "metadata": {},
   "source": [
    "## Basic Try and Except\n",
    "\n",
    "The basic syntax for exception handling in Python is:\n",
    "\n",
    "```python\n",
    "try:\n",
    "    # code that might cause an exception\n",
    "except ExceptionType:\n",
    "    # code that runs if the exception occurs\n",
    "```\n",
    "\n",
    "For example:"
   ]
  },
  {
   "cell_type": "code",
   "execution_count": null,
   "metadata": {},
   "outputs": [],
   "source": [
    "try:\n",
    "    x = 1 / 0\n",
    "except ZeroDivisionError:\n",
    "    print(\"You can't divide by zero!\")"
   ]
  },
  {
   "cell_type": "markdown",
   "metadata": {},
   "source": [
    "## Handling Multiple Exceptions\n",
    "\n",
    "You can handle multiple exceptions using multiple `except` blocks. Each `except` block can handle a different type of exception.\n",
    "\n",
    "For example:\n"
   ]
  },
  {
   "cell_type": "code",
   "execution_count": null,
   "metadata": {},
   "outputs": [],
   "source": [
    "try:\n",
    "    x = int(input(\"Enter a number: \"))\n",
    "    y = 1 / x\n",
    "except ValueError:\n",
    "    print(\"That's not a valid number!\")\n",
    "except ZeroDivisionError:\n",
    "    print(\"You can't divide by zero!\")"
   ]
  },
  {
   "cell_type": "markdown",
   "metadata": {},
   "source": [
    "## Catching All Exceptions\n",
    "\n",
    "If you want to catch any exception that might occur, you can use a bare `except` clause. However, **this is generally discouraged because it can catch unexpected errors and make debugging difficult.**\n",
    "\n",
    "For Example:"
   ]
  },
  {
   "cell_type": "code",
   "execution_count": null,
   "metadata": {},
   "outputs": [],
   "source": [
    "import math\n",
    "\n",
    "try:\n",
    "    # Attempt to read a number from a file\n",
    "    with open(\"number.txt\", \"r\") as file:\n",
    "        number = float(file.read().strip())\n",
    "    \n",
    "    # Attempt to calculate the square root of the number\n",
    "    result = math.sqrt(number)\n",
    "    print(f\"The square root of {number} is {result}\")\n",
    "\n",
    "except:\n",
    "    print(\"An error occurred. Please ensure the file exists, contains a valid number, and the number is non-negative.\")\n",
    "\n",
    "# Not clear what caused the error "
   ]
  },
  {
   "cell_type": "markdown",
   "metadata": {},
   "source": [
    "## The Else Clause\n",
    "\n",
    "You can use an `else` clause to run code if no exceptions were raised in the `try` block.\n",
    "\n",
    "For example:\n"
   ]
  },
  {
   "cell_type": "code",
   "execution_count": null,
   "metadata": {},
   "outputs": [],
   "source": [
    "try:\n",
    "    # Prompt the user for two numbers\n",
    "    num1 = float(input(\"Enter the first number: \"))\n",
    "    num2 = float(input(\"Enter the second number: \"))\n",
    "    \n",
    "    # Attempt to divide the numbers\n",
    "    result = num1 / num2\n",
    "except ValueError:\n",
    "    print(\"Invalid input. Please enter numeric values.\")\n",
    "except ZeroDivisionError:\n",
    "    print(\"Error: Cannot divide by zero.\")\n",
    "except:\n",
    "    print(\"An unexpected error occurred.\")\n",
    "else:\n",
    "    # This block will run if no exceptions were raised\n",
    "    print(f\"The result of the division is: {result}\")\n"
   ]
  },
  {
   "cell_type": "markdown",
   "metadata": {},
   "source": [
    "## The Finally Clause\n",
    "\n",
    "The `finally` block lets you execute code, regardless of whether an exception was raised or not. This is useful for cleaning up resources, such as closing files or network connections.\n",
    "\n",
    "For example:\n"
   ]
  },
  {
   "cell_type": "code",
   "execution_count": null,
   "metadata": {},
   "outputs": [],
   "source": [
    "my_list = ['apple', 'banana', 'cherry']\n",
    "\n",
    "try:\n",
    "    # Prompt the user for an index\n",
    "    index = int(input(\"Enter the index of the element you want to access: \"))\n",
    "    \n",
    "    # Attempt to access the element at the given index\n",
    "    element = my_list[index]\n",
    "    print(f\"The element at index {index} is {element}\")\n",
    "\n",
    "except IndexError:\n",
    "    print(\"Error: Index out of range. Please enter a valid index.\")\n",
    "except ValueError:\n",
    "    print(\"Invalid input. Please enter a numeric index.\")\n",
    "finally:\n",
    "    # This block will run regardless of whether an exception occurred\n",
    "    print(\"Program execution complete.\")\n"
   ]
  },
  {
   "cell_type": "markdown",
   "metadata": {},
   "source": [
    "## Raising Exceptions\n",
    "\n",
    "You can raise exceptions using the `raise` statement. This is useful when you want to enforce certain constraints in your code.\n",
    "\n",
    "For example:\n"
   ]
  },
  {
   "cell_type": "code",
   "execution_count": null,
   "metadata": {},
   "outputs": [],
   "source": [
    "try:\n",
    "    # Prompt the user for two strings\n",
    "    str1 = input(\"Enter the first string: \")\n",
    "    str2 = input(\"Enter the second string: \")\n",
    "    \n",
    "    # Check if either string is empty\n",
    "    if not str1 or not str2:\n",
    "        raise TypeError(\"Both strings must be provided.\")\n",
    "    \n",
    "    # Concatenate the strings\n",
    "    concatenated_string = str1 + str2\n",
    "    print(f\"The concatenated string is: {concatenated_string}\")\n",
    "\n",
    "except TypeError as e:\n",
    "    print(e)"
   ]
  },
  {
   "cell_type": "markdown",
   "metadata": {},
   "source": [
    "### List of Built-in Errors (Exceptions) in Python\n",
    "\n",
    "1. **SyntaxError**\n",
    "   - Raised when there is a syntax error in Python code.\n",
    "\n",
    "2. **IndentationError**\n",
    "   - Raised when there is incorrect indentation in Python code.\n",
    "\n",
    "3. **NameError**\n",
    "   - Raised when a local or global name is not found.\n",
    "\n",
    "4. **TypeError**\n",
    "   - Raised when an operation or function is applied to an object of inappropriate type.\n",
    "\n",
    "5. **ValueError**\n",
    "   - Raised when a function receives an argument of correct type but inappropriate value.\n",
    "\n",
    "6. **ZeroDivisionError**\n",
    "   - Raised when division or modulo operation is performed with zero as the denominator.\n",
    "\n",
    "7. **IndexError**\n",
    "   - Raised when a sequence subscript is out of range.\n",
    "\n",
    "8. **KeyError**\n",
    "   - Raised when a dictionary key is not found.\n",
    "\n",
    "9. **FileNotFoundError**\n",
    "   - Raised when trying to access a file that does not exist.\n",
    "\n",
    "10. **IOError**\n",
    "    - Raised when an input/output operation fails.\n",
    "\n",
    "11. **OSError**\n",
    "    - Raised when a system-related operation fails.\n",
    "\n",
    "12. **AttributeError**\n",
    "    - Raised when an attribute reference or assignment fails.\n",
    "\n",
    "13. **ImportError**\n",
    "    - Raised when an import statement fails to find the module definition.\n",
    "\n",
    "14. **ModuleNotFoundError**\n",
    "    - Raised by `import` when a module could not be found.\n",
    "\n",
    "15. **RuntimeError**\n",
    "    - Raised when an error does not fall under any specific category.\n",
    "\n",
    "16. **KeyboardInterrupt**\n",
    "    - Raised when the user interrupts program execution, usually by pressing Ctrl+C.\n",
    "\n",
    "17. **StopIteration**\n",
    "    - Raised by built-in iterators to signal that there are no further items produced.\n",
    "\n",
    "18. **Exception**\n",
    "    - Base class for all built-in exceptions. All exceptions inherit from this class.\n"
   ]
  },
  {
   "cell_type": "markdown",
   "metadata": {},
   "source": [
    "### 5 Challenges Based on Try-Except in Python\n",
    "\n",
    "1. **Divide by Zero Handler**\n",
    "\n",
    "   Write a program that prompts the user to enter two numbers and divides the first number by the second number. Handle the `ZeroDivisionError` exception and print an appropriate message if the user attempts to divide by zero.\n"
   ]
  },
  {
   "cell_type": "code",
   "execution_count": null,
   "metadata": {},
   "outputs": [],
   "source": [
    "# Write code here"
   ]
  },
  {
   "cell_type": "markdown",
   "metadata": {},
   "source": [
    "2. **File Reader with Error Handling**\n",
    "\n",
    "   Create a program that reads content from a file specified by the user. Handle the `FileNotFoundError` exception to inform the user if the specified file does not exist. Ensure the file is closed properly using a `finally` block.\n"
   ]
  },
  {
   "cell_type": "code",
   "execution_count": null,
   "metadata": {},
   "outputs": [],
   "source": [
    "# Write code here"
   ]
  },
  {
   "cell_type": "markdown",
   "metadata": {},
   "source": [
    "3. **Input Validation**\n",
    "\n",
    "   Write a function that accepts user input for an integer value. Handle the `ValueError` exception to prompt the user to enter a valid integer until they provide a correct input."
   ]
  },
  {
   "cell_type": "code",
   "execution_count": null,
   "metadata": {},
   "outputs": [],
   "source": [
    "# Write code here"
   ]
  },
  {
   "cell_type": "markdown",
   "metadata": {},
   "source": [
    "4. **Dictionary Key Access**\n",
    "\n",
    "   Design a program that accesses a value from a dictionary based on a key entered by the user. Handle the `KeyError` exception to inform the user if the specified key does not exist in the dictionary.\n"
   ]
  },
  {
   "cell_type": "code",
   "execution_count": null,
   "metadata": {},
   "outputs": [],
   "source": [
    "# Write code here"
   ]
  }
 ],
 "metadata": {
  "kernelspec": {
   "display_name": "Python 3",
   "language": "python",
   "name": "python3"
  },
  "language_info": {
   "codemirror_mode": {
    "name": "ipython",
    "version": 3
   },
   "file_extension": ".py",
   "mimetype": "text/x-python",
   "name": "python",
   "nbconvert_exporter": "python",
   "pygments_lexer": "ipython3",
   "version": "3.12.4"
  }
 },
 "nbformat": 4,
 "nbformat_minor": 2
}
