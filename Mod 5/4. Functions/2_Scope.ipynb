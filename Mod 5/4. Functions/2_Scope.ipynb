{
 "cells": [
  {
   "cell_type": "markdown",
   "id": "73da4507-8059-4ce8-ac53-81e7858dd820",
   "metadata": {},
   "source": [
    "# Python Variable Scope\r\n",
    "\r\n",
    "Variable scope refers to the accessibility and visibility of variables within a program. Understanding variable scope is crucial for writing robust and maintainable code. In Python, variables can have different scopes depending on where they are defined. Here’s a detailed description of the variable scopes in Python:\r\n",
    "\r\n",
    "## 1. Local Scope\r\n",
    "\r\n",
    "Variables defined inside a function have a local scope. They are only accessible within the function in which they are defined. Once the function execution completes, the local variables are destroyed.\r\n",
    "\r\n",
    "### Example\r\n",
    "\r\n",
    "<code>\r\n",
    "def my_function():\r\n",
    "    x = 10  # Local variable\r\n",
    "    print(x)\r\n",
    "\r\n",
    "my_function()  # Output: 10\r\n",
    "print(x)  # Raises NameError: name 'x' is not defined\r\n",
    "</code>\r\n",
    "\r\n",
    "## 2. Global Scope\r\n",
    "\r\n",
    "Variables defined outside any function have a global scope. They are accessible from anywhere within the current module or file. Global variables remain in memory throughout the execution of the program.\r\n",
    "\r\n",
    "### Example\r\n",
    "\r\n",
    "<code>\r\n",
    "x = 10  # Global variable\r\n",
    "\r\n",
    "def my_function():\r\n",
    "    print(x)\r\n",
    "\r\n",
    "my_function()  # Output: 10\r\n",
    "print(x)  # Output: 10\r\n",
    "</code>\r\n",
    "\r\n",
    "## 3. Enclosing Scope (or Nonlocal Scope)\r\n",
    "\r\n",
    "In nested functions, variables can have an enclosing scope. This scope lies between the local and global scopes. Variables in the enclosing scope are accessible from the inner function.\r\n",
    "\r\n",
    "### Example\r\n",
    "\r\n",
    "<code>\r\n",
    "def outer_function():\r\n",
    "    x = 10  # Enclosing variable\r\n",
    "    def inner_function():\r\n",
    "        print(x)\r\n",
    "    inner_function()\r\n",
    "\r\n",
    "outer_function()  # Output: 10\r\n",
    "</code>\r\n",
    "\r\n",
    "## 4. Built-in Scope\r\n",
    "\r\n",
    "Python provides several built-in functions and constants, such as `print()`, `len()`, and `True`, which are available in all scopes by default.\r\n",
    "\r\n",
    "### Example\r\n",
    "\r\n",
    "<code>\r\n",
    "print(len([1, 2, 3]))  # Output: 3\r\n",
    "print(True)  # Output: True\r\n",
    "</code>\r\n",
    "\r\n",
    "## 5. Scope Resolution\r\n",
    "\r\n",
    "When a variable is referenced, Python searches for its value in the local scope first. If not found, it searches in the enclosing scope, then in the global scope, and finally in the built-in scope. This process is known as scope resolution.\r\n",
    "\r\n",
    "### Example\r\n",
    "\r\n",
    "<code>\r\n",
    "x = 10  # Global variable\r\n",
    "\r\n",
    "def my_function():\r\n",
    "    x = 20  # Local variable\r\n",
    "    print(x)\r\n",
    "\r\n",
    "my_function()  # Output: 20 (Local variable is accessed)\r\n",
    "</code>\r\n",
    "\r\n",
    "## 6. `global` Keyword\r\n",
    "\r\n",
    "To modify a global variable from within a function, you can use the `global` keyword to declare that the variable should be treated as a global variable.\r\n",
    "\r\n",
    "### Example\r\n",
    "\r\n",
    "<code>\r\n",
    "x = 10  # Global variable\r\n",
    "\r\n",
    "def modify_global():\r\n",
    "    global x\r\n",
    "    x = 20\r\n",
    "</code>\r\n"
   ]
  },
  {
   "cell_type": "markdown",
   "id": "73382b58-0962-4688-b1fe-0f7f860e3fb4",
   "metadata": {},
   "source": [
    "## Global Scope"
   ]
  },
  {
   "cell_type": "code",
   "execution_count": null,
   "id": "15665557-c5b5-432d-aa80-a904a18d7746",
   "metadata": {},
   "outputs": [],
   "source": [
    "global_var = \"I am a global variable\"\n",
    "\n",
    "def print_global():\n",
    "    print(\"Inside print_global:\", global_var)\n",
    "\n",
    "# Accessing global variable inside a function\n",
    "print_global()  # Output: Inside print_global: I am a global variable\n",
    "\n",
    "# Accessing global variable outside a function\n",
    "print(\"Outside print_global:\", global_var)  # Output: Outside print_global: I am a global variable\n"
   ]
  },
  {
   "cell_type": "markdown",
   "id": "31537728-d355-40ef-b68a-0d2fa94ea283",
   "metadata": {},
   "source": [
    "## Local Scope"
   ]
  },
  {
   "cell_type": "code",
   "execution_count": null,
   "id": "c67dd136-8b8c-44a2-b430-eb3d5869c96c",
   "metadata": {},
   "outputs": [],
   "source": [
    "def print_local():\n",
    "    local_var = \"I am a local variable\"\n",
    "    print(\"Inside print_local:\", local_var)\n",
    "\n",
    "# Accessing local variable inside a function\n",
    "print_local()  # Output: Inside print_local: I am a local variable\n",
    "\n",
    "# Trying to access local variable outside the function will result in NameError\n",
    "# print(\"Outside print_local:\", local_var)  # Uncommenting this line will result in NameError\n"
   ]
  },
  {
   "cell_type": "markdown",
   "id": "f2ddeb85-1bdf-4733-85c3-e1e48a4cba14",
   "metadata": {},
   "source": [
    "## Nested Scope"
   ]
  },
  {
   "cell_type": "code",
   "execution_count": null,
   "id": "22c74ab8-691c-4cb5-9d34-2ed3ee8cadad",
   "metadata": {},
   "outputs": [],
   "source": [
    "def outer_function():\n",
    "    outer_var = \"Outer variable\"\n",
    "\n",
    "    def inner_function():\n",
    "        inner_var = \"Inner variable\"\n",
    "        print(\"Inside inner_function:\", inner_var)\n",
    "        print(\"Inside inner_function, accessing outer_var:\", outer_var)\n",
    "\n",
    "    inner_function()\n",
    "\n",
    "    # Trying to access inner_var here will result in NameError\n",
    "    # print(\"Outside inner_function:\", inner_var)  # Uncommenting this line will result in NameError\n",
    "\n",
    "# Accessing outer variable defined in outer_function\n",
    "outer_function()  \n",
    "# Output:\n",
    "# Inside inner_function: Inner variable\n",
    "# Inside inner_function, accessing outer_var: Outer variable\n"
   ]
  },
  {
   "cell_type": "markdown",
   "id": "987a1052-0475-407d-b344-21fde9381c1d",
   "metadata": {},
   "source": [
    "## Scope and Shadowing"
   ]
  },
  {
   "cell_type": "code",
   "execution_count": null,
   "id": "441828a0-9f82-4a51-af57-5c46cd1d2103",
   "metadata": {},
   "outputs": [],
   "source": [
    "shadow_var = \"Global variable\"\n",
    "\n",
    "def shadowing_example():\n",
    "    shadow_var = \"Local variable\"\n",
    "    print(\"Inside shadowing_example:\", shadow_var)\n",
    "\n",
    "shadowing_example()  # Output: Inside shadowing_example: Local variable\n",
    "\n",
    "# Accessing the global variable with the same name outside the function\n",
    "print(\"Outside shadowing_example:\", shadow_var)  # Output: Outside shadowing_example: Global variable\n"
   ]
  },
  {
   "cell_type": "markdown",
   "id": "c54e7f7a-df8f-453d-b936-f40e356e6a79",
   "metadata": {},
   "source": [
    "## Modifying Global Variables"
   ]
  },
  {
   "cell_type": "code",
   "execution_count": null,
   "id": "d6cae5cb-3e13-4f94-b897-d21ce7af0ae1",
   "metadata": {},
   "outputs": [],
   "source": [
    "global_counter = 0\n",
    "\n",
    "def increment_counter():\n",
    "    global global_counter\n",
    "    global_counter += 1\n",
    "\n",
    "increment_counter()\n",
    "print(\"After first increment:\", global_counter)  # Output: After first increment: 1\n",
    "\n",
    "increment_counter()\n",
    "print(\"After second increment:\", global_counter)  # Output: After second increment: 2\n"
   ]
  }
 ],
 "metadata": {
  "kernelspec": {
   "display_name": "Python 3 (ipykernel)",
   "language": "python",
   "name": "python3"
  },
  "language_info": {
   "codemirror_mode": {
    "name": "ipython",
    "version": 3
   },
   "file_extension": ".py",
   "mimetype": "text/x-python",
   "name": "python",
   "nbconvert_exporter": "python",
   "pygments_lexer": "ipython3",
   "version": "3.11.7"
  }
 },
 "nbformat": 4,
 "nbformat_minor": 5
}
