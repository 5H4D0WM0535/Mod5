{
 "cells": [
  {
   "cell_type": "markdown",
   "id": "214c1ee9-314d-471b-8cb1-330be6b889a9",
   "metadata": {},
   "source": [
    "# Understanding Algorithms\n",
    "\n",
    "## What is an Algorithm?\n",
    "\n",
    "An algorithm is a well-defined set of instructions or a step-by-step procedure designed to perform a specific task or solve a particular problem. Algorithms are fundamental to computer science and programming, as they provide a clear and systematic approach to problem-solving.\n",
    "\n",
    "### Key Characteristics of Algorithms\n",
    "\n",
    "1. **Clear**: Each step of an algorithm is clearly defined and understandable.\n",
    "2. **Finite**: An algorithm must have a limited number of steps and should eventually terminate.\n",
    "3. **Definite**: Each step must be precisely stated with no ambiguity.\n",
    "4. **Input**: An algorithm can have zero or more inputs. These inputs are the initial data provided to the algorithm for processing.\n",
    "5. **Output**: An algorithm should produce one or more outputs, which are the results obtained after executing the algorithm.\n",
    "6. **Effective**: The operations described in the algorithm must be basic enough to be carried out manually, if necessary.\n",
    "\n",
    "## Example Algorithms\n",
    "\n",
    "### 1. Linear Search\n",
    "\n",
    "Linear search is a simple algorithm to find an element in a list by checking each element one by one.\n",
    "\n",
    "#### Steps:\n",
    "1. Start from the first element of the list.\n",
    "2. Compare the target value with the current element.\n",
    "3. If the target value matches the current element, return the index.\n",
    "4. If the target value does not match, move to the next element and repeat step 2.\n",
    "5. If the end of the list is reached and the target value is not found, return -1."
   ]
  },
  {
   "cell_type": "code",
   "execution_count": null,
   "id": "32608fda-8397-4554-926f-e63ae6ec67d0",
   "metadata": {},
   "outputs": [],
   "source": [
    "# Linear Search Algorithm\n",
    "def linear_search(lst, target):\n",
    "    for index, element in enumerate(lst):\n",
    "        if element == target:\n",
    "            return index\n",
    "    return -1\n",
    "\n",
    "# Example usage\n",
    "numbers = [1, 3, 5, 7, 9]\n",
    "result = linear_search(numbers, 7)\n",
    "print(f'Element found at index: {result}')  # Output: Element found at index: 3\n"
   ]
  },
  {
   "cell_type": "markdown",
   "id": "345ea5e4-7df7-410e-8429-37d61de100f6",
   "metadata": {},
   "source": [
    "### 2. Binary Search\n",
    "\n",
    "Binary search is a more efficient algorithm to find an element in a sorted list by repeatedly dividing the search interval in half.\n",
    "\n",
    "#### Steps:\n",
    "1. Start with the whole list.\n",
    "2. Find the middle element.\n",
    "3. If the middle element is the target value, return the index.\n",
    "4. If the target value is less than the middle element, repeat the search on the left half of the list.\n",
    "5. If the target value is greater than the middle element, repeat the search on the right half of the list.\n",
    "6. If the target value is not found, return -1."
   ]
  },
  {
   "cell_type": "code",
   "execution_count": null,
   "id": "ab3057d3-91ee-4cbf-8981-93c9b6506b71",
   "metadata": {},
   "outputs": [],
   "source": [
    "# Binary Search Algorithm\n",
    "def binary_search(lst, target):\n",
    "    low = 0\n",
    "    high = len(lst) - 1\n",
    "    while low <= high:\n",
    "        mid = (low + high) // 2\n",
    "        if lst[mid] == target:\n",
    "            return mid\n",
    "        elif lst[mid] < target:\n",
    "            low = mid + 1\n",
    "        else:\n",
    "            high = mid - 1\n",
    "    return -1\n",
    "\n",
    "# Example usage\n",
    "numbers = [1, 3, 5, 7, 9]\n",
    "result = binary_search(numbers, 7)\n",
    "print(f'Element found at index: {result}')  # Output: Element found at index: 3\n"
   ]
  },
  {
   "cell_type": "markdown",
   "id": "766307b3-b125-4c68-82b6-e7a795d0c21d",
   "metadata": {},
   "source": [
    "## Test the timing of the Algorithims\n",
    "\n",
    "In your IDE copy both search functions and check that they work.\n",
    "\n",
    "Replace numbers list `[1,3,5,7,9]` with a list of numbers from 1 upto and including 10,000,000.\n",
    "\n",
    "Import the time module\n",
    "\n",
    "Use the time.time() function to get a start and end time of each function.\n",
    "\n",
    "Print the time of each function"
   ]
  },
  {
   "cell_type": "markdown",
   "id": "013e7707-9c97-40b2-8ef3-341d66812d99",
   "metadata": {},
   "source": [
    "# Challenge: Sum of Multiples of 3 and 5\r\n",
    "\r\n",
    "## Objective\r\n",
    "\r\n",
    "Write a Python function that calculates the sum of all natural numbers below a given limit that are divisible by 3 or 5.\r\n",
    "\r\n",
    "## Description\r\n",
    "\r\n",
    "Given a positive integer `limit`, the task is to find the sum of all numbers less than `limit` that are divisible by either 3 or 5.\r\n",
    "\r\n",
    "## Example\r\n",
    "\r\n",
    "For `limit = 1000`, the sum of all numbers less than 1000 that are divisible by 3 or 5 is:\r\n",
    "\r\n",
    "**Answer**: 233,168\r\n",
    "\r\n",
    "## Constraints\r\n",
    "\r\n",
    "- The limit will be a positive integer.\r\n",
    "- The function should handle large values of `limit` efficiently.\r\n",
    "\r\n",
    "## Expected Output\r\n",
    "\r\n",
    "The function should return an integer representing the sum of all multiples of 3 or 5 below the given limit.\r\n"
   ]
  },
  {
   "cell_type": "code",
   "execution_count": null,
   "id": "10018858-1cb4-4522-80df-eeaabecde17f",
   "metadata": {},
   "outputs": [],
   "source": []
  }
 ],
 "metadata": {
  "kernelspec": {
   "display_name": "Python 3 (ipykernel)",
   "language": "python",
   "name": "python3"
  },
  "language_info": {
   "codemirror_mode": {
    "name": "ipython",
    "version": 3
   },
   "file_extension": ".py",
   "mimetype": "text/x-python",
   "name": "python",
   "nbconvert_exporter": "python",
   "pygments_lexer": "ipython3",
   "version": "3.11.7"
  }
 },
 "nbformat": 4,
 "nbformat_minor": 5
}
