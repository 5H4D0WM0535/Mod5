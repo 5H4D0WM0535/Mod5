{
 "cells": [
  {
   "cell_type": "markdown",
   "id": "6df065e3-8e28-48b9-855d-e20347fc4d16",
   "metadata": {},
   "source": [
    "## Challenges Using the CSV File\r\n",
    "\r\n",
    "#### Challenge 1: Read and Print CSV Data\r\n",
    "\r\n",
    "**Task:** Read the `data.csv` file and print each row of data.\r\n",
    "\r\n",
    "<details>\r\n",
    "<summary>Hint</summary>\r\n",
    "\r\n",
    "Use the `csv.reader` to iterate over the rows of the CSV file and print each row.\r\n",
    "</details>\r\n",
    "\r\n",
    "#### Challenge 2: Calculate Average Age\r\n",
    "\r\n",
    "**Task:** Calculate and print the average age from the `data.csv` file.\r\n",
    "\r\n",
    "<details>\r\n",
    "<summary>Hint</summary>\r\n",
    "\r\n",
    "You can use `csv.DictReader` to read the CSV file into a list of dictionaries. Extract the ages and calculate the average.\r\n",
    "</details>\r\n",
    "\r\n",
    "#### Challenge 3: Append Data to CSV File\r\n",
    "\r\n",
    "**Task:** Append a new person's data to the `data.csv` file and print the updated contents.\r\n",
    "\r\n",
    "<details>\r\n",
    "<summary>Hint</summary>\r\n",
    "\r\n",
    "Open the CSV file in append mode (`'a'`) and use `csv.writer` to append the new data. Then, read and print the updated contents of the CSV file.\r\n",
    "</details>\r\n"
   ]
  },
  {
   "cell_type": "code",
   "execution_count": null,
   "id": "fc51272a-5e52-4058-93fd-3fd3c019f12e",
   "metadata": {},
   "outputs": [],
   "source": [
    "import csv\n",
    "\n",
    "#WRITE YOUR CODE HERE"
   ]
  },
  {
   "cell_type": "markdown",
   "id": "ff6988c3-4f6f-4a03-89b2-a1562239233a",
   "metadata": {},
   "source": [
    "### Challenges Using the XML File\n",
    "\n",
    "#### Challenge 1: List All Books\n",
    "\n",
    "**Task:** Read the `data.xml` file and print the title and author of each book.\n",
    "\n",
    "<details>\n",
    "<summary>Hint</summary>\n",
    "\n",
    "Use `xml.etree.ElementTree` to parse the XML file and iterate through `<book>` elements to extract and print the `<title>` and `<author>` elements.\n",
    "</details>\n",
    "\n",
    "#### Challenge 2: Search by Genre\n",
    "\n",
    "**Task:** Prompt the user to enter a genre and print all books in that genre from the `data.xml` file.\n",
    "\n",
    "<details>\n",
    "<summary>Hint</summary>\n",
    "\n",
    "Parse the XML file using `xml.etree.ElementTree`, filter `<book>` elements based on the `<genre>` element matching user input, and print matching books.\n",
    "</details>\n",
    "\n",
    "#### Challenge 3: Add New Book\n",
    "\n",
    "**Task:** Append a new book's data to the `data.xml` file and print the updated contents.\n",
    "\n",
    "<details>\n",
    "<summary>Hint</summary>\n",
    "\n",
    "Parse the XML file, create a new `<book>` element with `<title>`, `<author>`, `<genre>`, and `<year>` sub-elements for the new book, append it to the root, and write the updated XML back to the file.\n",
    "</details>\n",
    "\n",
    "### Explanation\n",
    "\n",
    "- **Challenges:** Each challenge involves performing operations such as listing books, searching by genre, and adding new books using Python's `xml.etree.ElementTree` module.\n",
    "- **Hints:** Provided within collapsible `<details>` tags to guide learners without giving away the complete solutions, allowing them to attempt the challenges independently.\n"
   ]
  },
  {
   "cell_type": "code",
   "execution_count": null,
   "id": "26158e5e-1415-452b-82f9-3a655e0b8950",
   "metadata": {},
   "outputs": [],
   "source": [
    "import xml.etree.ElementTree\n",
    "\n",
    "#WRITE YOUR CODE HERE"
   ]
  },
  {
   "cell_type": "markdown",
   "id": "d8d29b9b-2c66-420f-b63e-460f91e8a90c",
   "metadata": {},
   "source": [
    "### Challenges Using the JSON File\r\n",
    "\r\n",
    "#### Challenge 1: List All Countries\r\n",
    "\r\n",
    "**Task:** Read the `data.json` file and print the name, population, capital, and languages spoken in each country.\r\n",
    "\r\n",
    "<details>\r\n",
    "<summary>Hint</summary>\r\n",
    "\r\n",
    "Use Python's `json` module to load the JSON file and iterate through the `countries` array to extract and print the `name`, `population`, `capital`, and `languages` fields for each country.\r\n",
    "</details>\r\n",
    "\r\n",
    "#### Challenge 2: Search by Population\r\n",
    "\r\n",
    "**Task:** Prompt the user to enter a population threshold and print all cities from `data.json` with a population greater than that threshold.\r\n",
    "\r\n",
    "<details>\r\n",
    "<summary>Hint</summary>\r\n",
    "\r\n",
    "Load the JSON file using `json.load()`, then prompt the user for a population threshold. Iterate through the `cities` array and print the `name` and `population` of cities that exceed the user input threshold.\r\n",
    "</details>\r\n",
    "\r\n",
    "#### Challenge 3: Add New City\r\n",
    "\r\n",
    "**Task:** Append a new city's data to the `data.json` file and print the updated contents.\r\n",
    "\r\n",
    "<details>\r\n",
    "<summary>Hint</summary>\r\n",
    "\r\n",
    "Load the JSON file, add a new object with `name`, `population`, and `country` fields to the `cities` array, and then write the updated JSON back to the `data.json` file.\r\n",
    "</details>\r\n",
    "\r\n",
    "### Explanation\r\n",
    "\r\n",
    "- **Challenges:** Each challenge involves tasks such as listing countries, searching cities by population, and adding new cities using Python's `json` module.\r\n",
    "- **Hints:** Provided within collapsible `<details>` tags to guide learners on how to approach each challenge using Pyecific setup and learning objectives.\r\n"
   ]
  },
  {
   "cell_type": "code",
   "execution_count": null,
   "id": "ed88f73d-6ef7-44dd-9e76-828412c512b4",
   "metadata": {},
   "outputs": [],
   "source": [
    "import json\n",
    "\n",
    "#WRITE YOUR CODE HERE"
   ]
  }
 ],
 "metadata": {
  "kernelspec": {
   "display_name": "Python 3 (ipykernel)",
   "language": "python",
   "name": "python3"
  },
  "language_info": {
   "codemirror_mode": {
    "name": "ipython",
    "version": 3
   },
   "file_extension": ".py",
   "mimetype": "text/x-python",
   "name": "python",
   "nbconvert_exporter": "python",
   "pygments_lexer": "ipython3",
   "version": "3.11.7"
  }
 },
 "nbformat": 4,
 "nbformat_minor": 5
}
