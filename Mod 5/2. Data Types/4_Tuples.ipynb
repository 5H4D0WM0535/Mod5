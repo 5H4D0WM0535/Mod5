{
 "cells": [
  {
   "cell_type": "markdown",
   "id": "dc7dc3e7-865e-4864-9f6d-488a191286e9",
   "metadata": {},
   "source": [
    "# Python Tuple\r\n",
    "\r\n",
    "A Python tuple is an immutable, ordered collection of items. Here’s a detailed description of its key features, characteristics, and functionalities:\r\n",
    "\r\n",
    "## 1. Definition and Syntax\r\n",
    "\r\n",
    "A tuple in Python is defined by enclosing a comma-separated sequence of items within parentheses `()`.\r\n",
    "\r\n",
    "<code>my_tuple = (1, 2, 3, 4, 5)</code>\r\n",
    "\r\n",
    "### Single Element Tuple\r\n",
    "\r\n",
    "For a tuple with a single element, include a trailing comma.\r\n",
    "\r\n",
    "<code>single_element_tuple = (1,)</code>\r\n",
    "\r\n",
    "## 2. Characteristics\r\n",
    "\r\n",
    "- **Ordered**: The items in a tuple have a defined order, and that order will not change.\r\n",
    "- **Immutable**: The elements in a tuple cannot be changed or modified after the tuple has been created.\r\n",
    "- **Heterogeneous**: A tuple can contain items of different data types (e.g., integers, strings, objects).\r\n",
    "\r\n",
    "<code>heterogeneous_tuple = (1, \"hello\", 3.14, True)</code>\r\n",
    "\r\n",
    "## 3. Basic Operations\r\n",
    "\r\n",
    "### Accessing Elements\r\n",
    "\r\n",
    "You can access elements by their index, starting from `0`.\r\n",
    "\r\n",
    "<code>first_element = my_tuple[0]  # 1\r\n",
    "last_element = my_tuple[-1]  # 5</code>\r\n",
    "\r\n",
    "### Slicing\r\n",
    "\r\n",
    "You can extract a part of the tuple using slicing.\r\n",
    "\r\n",
    "<code>sub_tuple = my_tuple[1:3]  # (2, 3)</code>\r\n",
    "\r\n",
    "### Concatenation\r\n",
    "\r\n",
    "You can concatenate tuples using the `+` operator.\r\n",
    "\r\n",
    "<code>concatenated_tuple = my_tuple + (6, 7, 8)  # (1, 2, 3, 4, 5, 6, 7, 8)</code>\r\n",
    "\r\n",
    "### Repetition\r\n",
    "\r\n",
    "You can repeat a tuple using the `*` operator.\r\n",
    "\r\n",
    "<code>repeated_tuple = my_tuple * 2  # (1, 2, 3, 4, 5, 1, 2, 3, 4, 5)</code>\r\n",
    "\r\n",
    "## 4. Common Tuple Methods\r\n",
    "\r\n",
    "### `len()`\r\n",
    "\r\n",
    "Returns the number of elements in the tuple.\r\n",
    "\r\n",
    "<code>length = len(my_tuple)  # 5</code>\r\n",
    "\r\n",
    "### `count()`\r\n",
    "\r\n",
    "Returns the number of occurrences of a value.\r\n",
    "\r\n",
    "<code>count_of_3 = my_tuple.count(3)  # 1</code>\r\n",
    "\r\n",
    "### `index()`\r\n",
    "\r\n",
    "Returns the index of the first occurrence of a value.\r\n",
    "\r\n",
    "<code>index_of_4 = my_tuple.index(4)  # 3</code>\r\n",
    "\r\n",
    "## 5. Nesting Tuples\r\n",
    "\r\n",
    "Tuples can contain other tuples, enabling the creation of multi-dimensional arrays.\r\n",
    "\r\n",
    "<code>nested_tuple = ((1, 2, 3), (4, 5, 6), (7, 8, 9))\r\n",
    "element = nested_tuple[1][2]  # 6</code>\r\n",
    "\r\n",
    "## 6. Iterating Over Tuples\r\n",
    "\r\n",
    "You can iterate over the elements of a tuple using a loop.\r\n",
    "\r\n",
    "<code>for item in my_tuple:\r\n",
    "    print(item)</code>\r\n",
    "\r\n",
    "## 7. Tuple Packing and Unpacking\r\n",
    "\r\n",
    "### Packing\r\n",
    "\r\n",
    "You can pack multiple values into a tuple.\r\n",
    "\r\n",
    "<code>packed_tuple = 1, 2, \"apple\", 3.14</code>\r\n",
    "\r\n",
    "### Unpacking\r\n",
    "\r\n",
    "You can unpack a tuple into individual variables.\r\n",
    "\r\n",
    "<code>a, b, c, d = packed_tuple\r\n",
    "# a = 1, b = 2, c = \"apple\", d = 3.14</code>\r\n",
    "\r\n",
    "## 8. Memory and Performance\r\n",
    "\r\n",
    "- **Memory Efficiency**: Tuples are more memory-efficient than lists due to their immutability.\r\n",
    "- **Performance**: Accessing elements in a tuple is faster than in a list because tuples are immutable and their size is fixed.\r\n",
    "\r\n",
    "## Summary\r\n",
    "\r\n",
    "Python tuples are immutable, ordered sequences that can store collections of heterogeneous items. They are memory-efficient and provide a quick way to group and access data. Despite their immutability, they offer a variety of operations and methods for efficient data handling.\r\n"
   ]
  },
  {
   "cell_type": "markdown",
   "id": "1a2773e5-477f-474a-9543-35562f375517",
   "metadata": {},
   "source": [
    "# Creating a Tuple"
   ]
  },
  {
   "cell_type": "code",
   "execution_count": null,
   "id": "d14566b4-6d86-47a3-a25d-ed1fe58aea47",
   "metadata": {},
   "outputs": [],
   "source": [
    "# Creating a tuple with integers\n",
    "numbers = (1, 2, 3, 4, 5)\n",
    "\n",
    "# Creating a tuple with different data types\n",
    "mixed = (1, \"apple\", 3.14, True)\n",
    "\n",
    "# Creating a tuple without parentheses\n",
    "names = \"Alice\", \"Bob\", \"Charlie\"\n"
   ]
  },
  {
   "cell_type": "markdown",
   "id": "6dd09bf9-0d76-493f-bd33-a1364a05da98",
   "metadata": {},
   "source": [
    "# Accessing Elements & Slicing a Tuple"
   ]
  },
  {
   "cell_type": "code",
   "execution_count": null,
   "id": "31c5d7c6-be49-4cf7-a6bc-d8f8c79d3ee7",
   "metadata": {},
   "outputs": [],
   "source": [
    "# Accessing elements by index\n",
    "first_element = numbers[0]  # 1\n",
    "second_element = mixed[1]   # \"apple\"\n",
    "\n",
    "# Accessing elements by negative index\n",
    "last_element = numbers[-1]  # 5\n",
    "second_last_element = mixed[-2]  # 3.14\n",
    "\n",
    "# Slicing to get the first three elements\n",
    "subset1 = numbers[0:3]  # (1, 2, 3)\n",
    "\n",
    "# Slicing to get elements from index 2 to the end\n",
    "subset2 = mixed[2:]  # (3.14, True)\n",
    "\n",
    "# Slicing to get elements from the start to index 3 (not included)\n",
    "subset3 = names[:3]  # ('Alice', 'Bob', 'Charlie')"
   ]
  },
  {
   "cell_type": "markdown",
   "id": "69e4e4dd-3b3b-4427-9c66-bc41da55f8db",
   "metadata": {},
   "source": [
    "# Tuple Concatenation & Repetition"
   ]
  },
  {
   "cell_type": "code",
   "execution_count": null,
   "id": "d16ec9cc-621c-459e-859e-038a7ff06a90",
   "metadata": {},
   "outputs": [],
   "source": [
    "# Concatenating tuples\n",
    "tuple1 = (1, 2, 3)\n",
    "tuple2 = (4, 5, 6)\n",
    "concatenated_tuple = tuple1 + tuple2  # (1, 2, 3, 4, 5, 6)\n",
    "\n",
    "# Concatenating with an empty tuple\n",
    "empty_tuple = ()\n",
    "result = tuple1 + empty_tuple  # (1, 2, 3)\n",
    "\n",
    "# Repeating a tuple twice\n",
    "repeated_tuple1 = tuple1 * 2  # (1, 2, 3, 1, 2, 3)\n",
    "\n",
    "# Repeating a tuple three times\n",
    "repeated_tuple2 = tuple2 * 3  # (4, 5, 6, 4, 5, 6, 4, 5, 6)\n",
    "\n",
    "# Repeating an empty tuple\n",
    "empty_repeated = empty_tuple * 5  # ()"
   ]
  },
  {
   "cell_type": "markdown",
   "id": "a11ff78d-30ad-4126-8bac-902bdc88abaf",
   "metadata": {},
   "source": [
    "# Tuple Unpacking"
   ]
  },
  {
   "cell_type": "code",
   "execution_count": null,
   "id": "afc698c5-a0ac-4994-b59d-684efa60c276",
   "metadata": {},
   "outputs": [],
   "source": [
    "# Tuple unpacking with integers\n",
    "a, b, c = tuple1\n",
    "# a = 1, b = 2, c = 3\n",
    "\n",
    "# Tuple unpacking with different data types\n",
    "name, age, height, is_student = (\"Alice\", 25, 5.6, True)\n",
    "# name = \"Alice\", age = 25, height = 5.6, is_student = True\n",
    "\n",
    "# Unpacking with more elements\n",
    "numbers = (1, 2, 3, 4, 5)\n",
    "first, second, *rest = numbers\n",
    "# first = 1, second = 2, rest = [3, 4, 5]\n",
    "\n",
    "# Nested tuple unpacking\n",
    "nested_tuple = (1, (2, 3), 4)\n",
    "x, (y, z), w = nested_tuple\n",
    "# x = 1, y = 2, z = 3, w = 4"
   ]
  },
  {
   "cell_type": "markdown",
   "id": "79fd2391-0e27-4a49-a7e2-12afd291b6db",
   "metadata": {},
   "source": [
    "### Challenge 1: Create and Access\n",
    "\n",
    "1. Create a tuple named `colors` with the elements: `('red', 'green', 'blue', 'yellow', 'purple')`.\n",
    "2. Access and display the second and fourth elements of the tuple.\n",
    "3. Display the length of the tuple."
   ]
  },
  {
   "cell_type": "code",
   "execution_count": null,
   "id": "bebcb707-cdaa-44f2-a4c7-e351025b12f6",
   "metadata": {},
   "outputs": [],
   "source": [
    "# WRITE CODE HERE"
   ]
  },
  {
   "cell_type": "markdown",
   "id": "6484b876-390a-436c-9840-19ff3995ad4b",
   "metadata": {},
   "source": [
    "### Challenge 2: Slicing\n",
    "\n",
    "1. Create a tuple named `numbers` with the elements: `(10, 20, 30, 40, 50, 60)`.\n",
    "2. Slice the tuple to get the first four elements.\n",
    "3. Slice the tuple to get the last three elements.\n",
    "4. Display both slices."
   ]
  },
  {
   "cell_type": "code",
   "execution_count": null,
   "id": "00225f99-0cbb-445a-9102-1db8d24e3d4c",
   "metadata": {},
   "outputs": [],
   "source": [
    "# WRITE CODE HERE"
   ]
  },
  {
   "cell_type": "markdown",
   "id": "d9bb4f91-974e-4aa5-b27c-283ceffa20f3",
   "metadata": {},
   "source": [
    "### Challenge 3: Concatenate\n",
    "\n",
    "1. Create two tuples: `first_half` with the elements `('apple', 'banana', 'cherry')` and `second_half` with the elements `('date', 'fig', 'grape')`.\n",
    "2. Concatenate `first_half` and `second_half` into a new tuple `fruits`.\n",
    "3. Display the resulting tuple."
   ]
  },
  {
   "cell_type": "code",
   "execution_count": null,
   "id": "563947e3-3327-4093-9ceb-6f606e21d8c5",
   "metadata": {},
   "outputs": [],
   "source": [
    "# WRITE CODE HERE"
   ]
  },
  {
   "cell_type": "markdown",
   "id": "84e7d9f6-b5ed-49bd-a7bd-2d6360c7ef5d",
   "metadata": {},
   "source": [
    "### Challenge 4: Repetition\n",
    "\n",
    "1. Create a tuple named `weekdays` with the elements: `('Monday', 'Tuesday', 'Wednesday', 'Thursday', 'Friday')`.\n",
    "2. Repeat the `weekdays` tuple three times.\n",
    "3. Display the resulting tuple."
   ]
  },
  {
   "cell_type": "code",
   "execution_count": null,
   "id": "7767b25a-503e-4f0c-af51-38f226a55c2e",
   "metadata": {},
   "outputs": [],
   "source": [
    "# WRITE CODE HERE"
   ]
  },
  {
   "cell_type": "markdown",
   "id": "33dc9062-9ce5-4c06-ba95-9fe852900714",
   "metadata": {},
   "source": [
    "### Challenge 5: Tuple Unpacking\n",
    "\n",
    "1. Create a tuple named `person` with the elements: `('John', 28, 'Engineer')`.\n",
    "2. Unpack the tuple into three variables: `name`, `age`, and `profession`.\n",
    "3. Display the values of `name`, `age`, and `profession`."
   ]
  },
  {
   "cell_type": "code",
   "execution_count": null,
   "id": "005a8ee0-f8e0-4d8f-8233-e64ac7e78962",
   "metadata": {},
   "outputs": [],
   "source": [
    "# WRITE CODE HERE"
   ]
  }
 ],
 "metadata": {
  "kernelspec": {
   "display_name": "Python 3 (ipykernel)",
   "language": "python",
   "name": "python3"
  },
  "language_info": {
   "codemirror_mode": {
    "name": "ipython",
    "version": 3
   },
   "file_extension": ".py",
   "mimetype": "text/x-python",
   "name": "python",
   "nbconvert_exporter": "python",
   "pygments_lexer": "ipython3",
   "version": "3.11.7"
  }
 },
 "nbformat": 4,
 "nbformat_minor": 5
}
