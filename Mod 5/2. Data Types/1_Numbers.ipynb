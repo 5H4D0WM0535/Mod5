{
 "cells": [
  {
   "cell_type": "markdown",
   "id": "fc5bf60f-2baf-4da6-b7e5-708295c8b08c",
   "metadata": {
    "scrolled": true
   },
   "source": [
    "# There are two types of numbers in Python: Intgers and Floats.\n",
    "\n",
    "## Integers\n",
    "In Python, integers are represented using arbitrary-precision. This means that Python can handle very large integers, limited only by the available memory.\n",
    "\n",
    "\n",
    "Small Integers Optimization: For small integers (-5 to 256), Python uses a pre-allocated array to speed up their access, because these integers are frequently used.\n",
    "\n",
    "## Floats\n",
    "Python's floats are implemented using double precision (64-bit) as per the IEEE 754 standard. This is similar to the double type in C. \n",
    "\n",
    "![](Float.jpg)"
   ]
  },
  {
   "cell_type": "code",
   "execution_count": null,
   "id": "a14d24f5-f503-4ce4-a3e2-4eb11bdf352d",
   "metadata": {},
   "outputs": [],
   "source": [
    "# Largest possible 64 bit unsigned int is 18,446,744,073,709,551,615 you can see that python can dynamically handle bigger number without issue.\n",
    "large_int = 910043815000214977332758527534256632492715260325658624\n",
    "print(f\"Large Integer: {large_int}\")\n",
    "print(f\"Type: {type(large_int)}\")"
   ]
  },
  {
   "cell_type": "code",
   "execution_count": null,
   "id": "b33fccc7-7418-4b66-822e-5053a61def90",
   "metadata": {},
   "outputs": [],
   "source": [
    "# Large integer readability \n",
    "hard_to_read = 10000000000 #Not clear this is 10 Billion\n",
    "easy_to_read = 10_000_000_000 #Much clearer this is 10 Billion\n",
    "print(f\"These are the same number: {hard_to_read}\")\n",
    "print(f\"These are the same number: {easy_to_read}\")"
   ]
  },
  {
   "cell_type": "code",
   "execution_count": null,
   "id": "14881076-a3fa-4324-b5e8-d87dab7dd704",
   "metadata": {},
   "outputs": [],
   "source": [
    "# Float example\n",
    "float_num = 3.141592653589793\n",
    "print(f\"Float Number: {float_num}\")\n",
    "print(f\"Type: {type(float_num)}\")"
   ]
  },
  {
   "cell_type": "code",
   "execution_count": null,
   "id": "568b6b97-664c-42e3-b1c4-0d1359ead0a4",
   "metadata": {},
   "outputs": [],
   "source": [
    "#Scientific notation\n",
    "reg_number = 1500000.0\n",
    "sci_number = 1.5e+6\n",
    "print(f\"These are the same number: {reg_number}\")\n",
    "print(f\"These are the same number: {sci_number}\")"
   ]
  },
  {
   "cell_type": "code",
   "execution_count": null,
   "id": "89d23da4-7d75-44d3-bebb-d55954441ebd",
   "metadata": {},
   "outputs": [],
   "source": [
    "# Demonstration of the small integer optimisation.\n",
    "# Creating two variables with the same small integer value\n",
    "a = 100\n",
    "b = 100\n",
    "\n",
    "# Checking they are the same value\n",
    "print(f\"Showing that a and b are equal to each other: {a == b}\")\n",
    "# Checking if they refer to the same object in memory\n",
    "print(f\"Showing that a and b are the same object in memory: {a is b}\")  \n",
    "\n",
    "\n",
    "# Creating two variables with the same large integer value\n",
    "x = 1000\n",
    "y = 1000\n",
    "\n",
    "\n",
    "# Checking they are the same value\n",
    "print(f\"Showing that x and y are equal to each other: {x == y}\")\n",
    "# Checking if they refer to the same object in memory\n",
    "print(f\"Showing that x and y are NOT the same object in memory: {x is y}\")  \n"
   ]
  },
  {
   "cell_type": "markdown",
   "id": "ac845c77-fdcb-49c1-8d85-857b302c2a68",
   "metadata": {},
   "source": [
    "## How Python Stores Negative Integers\r\n",
    "\r\n",
    "Python, like many modern programming languages, uses a specific method to represent negative integers in binary form. This method is called **Two's Complement**.\r\n",
    "\r\n",
    "### Two's Complement\r\n",
    "\r\n",
    "Two's complement is a method for representing signed integers in binary form. Here's how it works:\r\n",
    "\r\n",
    "1. **Positive Numbers**:\r\n",
    "   Positive numbers are stored directly in their binary form. For example,\r\n",
    "   \r\n",
    "   - Decimal 5 in 8-bit binary: `0000 0101`\r\n",
    "\r\n",
    "2. **Negative Numbers**:\r\n",
    "   To represent negative numbers, Two's Complement is used:\r\n",
    "\r\n",
    "   - Start with the binary representation of the positive number.\r\n",
    "   - Invert (flip) all the bits.\r\n",
    "   - Add 1 to the least significant bit (LSB).\r\n",
    "\r\n",
    "   For example, to represent -5 in 8-bit binary:\r\n",
    "   \r\n",
    "   - Positive 5: `0000 0101`\r\n",
    "   - Inverted: `1111 1010`\r\n",
    "   - Add 1: `1111 1011`\r\n",
    "\r\n",
    "   Therefore, -5 in 8-bit binary is represented as `1111 1011`.\r\n",
    "\r\n",
    "This method allows Python and other programming languages to efficiently handle both positive and negative integers using binary representation.\r\n"
   ]
  },
  {
   "cell_type": "code",
   "execution_count": null,
   "id": "9e336680-78a7-4b31-8a72-434a53d9b258",
   "metadata": {},
   "outputs": [],
   "source": [
    "# Positive integer\n",
    "positive_num = 5\n",
    "print(f\"{positive_num} in binary is {positive_num:08b}\")\n",
    "\n",
    "# Negative integer\n",
    "negative_num = -5\n",
    "print(f\"{negative_num} in binary is {negative_num:08b}\")\n",
    "print(f\"{negative_num} in binary (two's complement) is {negative_num & 0b11111111:08b}\")"
   ]
  },
  {
   "cell_type": "markdown",
   "id": "938c6e6b-0ccd-4e56-b701-2ac69dfc0850",
   "metadata": {},
   "source": [
    "# 0.1 + 0.2 != 0.3\n",
    "\n",
    "## Binary Representation:\n",
    "\n",
    "Floating-point numbers are stored in binary (base-2). Some decimal numbers that are simple in base-10 cannot be represented exactly in binary. For example, the decimal number 0.1 converts to an infinite repeating binary fraction: 0.00011001100110011....\n",
    "Similarly, 0.2 converts to another infinite repeating binary fraction: 0.0011001100110011....\n",
    "Precision Limits:\n",
    "\n",
    "Since the IEEE 754 standard uses a fixed number of bits (64 bits for double precision) to store floating-point numbers, these infinite binary fractions must be rounded to fit within this limited space. This rounding introduces small errors.\n",
    "The binary approximation of 0.1 is slightly greater than 0.1, and the binary approximation of 0.2 is slightly less than 0.2.\n",
    "Addition of Approximations:\n",
    "\n",
    "When these approximations are added, the small errors accumulate. So, the result of 0.1 + 0.2 is not exactly 0.3, but rather a number very close to it, which cannot be represented exactly in binary either."
   ]
  },
  {
   "cell_type": "code",
   "execution_count": null,
   "id": "d4820cf4-6724-44e3-96dc-0de66ec2fcab",
   "metadata": {},
   "outputs": [],
   "source": [
    "print(f\"The sum 0.1 + 0.2 = {0.1 + 0.2}\")           \n",
    "print(f\"Because of the above result we can see that (0.1 + 0.2) == 0.3 is: {(0.1 + 0.2) == 0.3}\")  "
   ]
  },
  {
   "cell_type": "markdown",
   "id": "032e9cbb-a82a-41b7-94a9-7be78365a86b",
   "metadata": {},
   "source": [
    "# The basic math operations in Python.\n",
    "\n",
    "<ul>\n",
    "    <li><strong>Addition</strong> (<code>+</code>): Adds two numbers together. For example, <code>2 + 3</code> equals <code>5</code>.</li>\n",
    "    <li><strong>Subtraction</strong> (<code>-</code>): Subtracts one number from another. For example, <code>5 - 3</code> equals <code>2</code>.</li>\n",
    "    <li><strong>Multiplication</strong> (<code>*</code>): Multiplies two numbers together. For example, <code>2 * 3</code> equals <code>6</code>.</li>\n",
    "    <li><strong>Division</strong> (<code>/</code>): Divides one number by another. For example, <code>6 / 3</code> equals <code>2.0</code> (always returns a float).</li>\n",
    "    <li><strong>Floor Division</strong> (<code>//</code>): Divides one number by another and returns the floor value (rounds down to the nearest integer). For example, <code>7 // 3</code> equals <code>2</code>.</li>\n",
    "    <li><strong>Modulus</strong> (<code>%</code>): Returns the remainder of the division of one number by another. For example, <code>7 % 3</code> equals <code>1</code>.</li>\n",
    "    <li><strong>Exponentiation</strong> (<code>**</code>): Raises one number to the power of another. For example, <code>2 ** 3</code> equals <code>8</code>.</li>\n",
    "    <li><strong>DIVISION BY ZERO IS NOT ALLOWED THIS APPLYS TO DIVISION, FLOOR DIVISION AND MODULUS</strong></li>\n",
    "</ul>\n",
    "\n",
    "\n",
    "\n",
    "## Challenge: Evaluate Basic Expressions Without Functions\n",
    "Instructions\n",
    "Understand the Order of Operations:\n",
    "\n",
    "Parentheses\n",
    "Exponents (or Orders, i.e., powers and square roots, etc.)\n",
    "Multiplication and Division (from left to right)\n",
    "Addition and Subtraction (from left to right)\n",
    "Task:\n",
    "\n",
    "Evaluate the following arithmetic expressions using basic operators (+, -, *, /) and parentheses. Ensure you follow the order of operations (PEMDAS/BOMDAS).\n",
    "\n",
    "### Challenge 1: Basic Operations\n",
    "Evaluate the following expressions:\n",
    "<ul>\n",
    "    <li><code>5 + 3 * 2</code></li>\n",
    "    <li><code>10 / 2 - 3</code></li>\n",
    "    <li><code>4 * (3 + 2)</code></li>\n",
    "    <li><code>8 / (4 - 2)</code></li>\n",
    "</ul>\n",
    "\n",
    "### Challenge 2: Intermediate Operations\n",
    "<ul>\n",
    "    <li><code>(6 + 2) * (5 - 2)</code></li>\n",
    "    <li><code>9 / (3 + 1) + 2</code></li>\n",
    "    <li><code>2 * (3 - 5) ** 2</code></li>\n",
    "    <li><code>8 / (4 - 2) + (6 - 3)</code></li>\n",
    "</ul>\n",
    "\n",
    "### Challenge 3: Advanced Operations\n",
    "<ul>\n",
    "    <li><code>(6 + 2) * (5 - 2) + 10 / 2</code></li>\n",
    "    <li><code>9 / (3 + 1) + 2 * (7 - 4)</code></li>\n",
    "    <li><code>2 * (3 - 5) ** 2 + 4 / (3 - 1)</code></li>\n",
    "    <li><code>(8 / (4 - 2) + (6 - 3)) * 2 - 5</code></li>\n",
    "</ul>\n",
    "\n",
    "### Challenge 4: Expert Operations\n",
    "<ul>\n",
    "    <li><code>((6 + 2) * (5 - 2) + 10 / 2) ** 2</code></li>\n",
    "    <li><code>(9 / (3 + 1) + 2 * (7 - 4)) * 3</code></li>\n",
    "    <li><code>(2 * (3 - 5) ** 2 + 4 / (3 - 1)) ** 2</code></li>\n",
    "    <li><code>(((8 / (4 - 2) + (6 - 3)) * 2 - 5) / 2) * 3</code></li>\n",
    "</ul>\n",
    "\n",
    "Notes to Learners\n",
    "Start with the basic challenges and gradually move to the more advanced ones as you become comfortable with the order of operations.\n",
    "Pay close attention to parentheses and make sure to evaluate expressions inside parentheses first.\n",
    "Remember to perform multiplication and division before addition and subtraction.\n",
    "Division will produce a float.\n",
    "Take your time to understand each challenge and **use a pen and paper first to work out the answers** before running the cells below."
   ]
  },
  {
   "cell_type": "code",
   "execution_count": null,
   "id": "f8e4f48d-f6e4-4191-af9d-b5fcb2dca475",
   "metadata": {},
   "outputs": [],
   "source": [
    "#Challenge 1\n",
    "print(5 + 3 * 2)\n",
    "print(10 / 2 - 3)\n",
    "print(4 * (3 + 2))\n",
    "print(8 / (4 - 2))"
   ]
  },
  {
   "cell_type": "code",
   "execution_count": null,
   "id": "a700bfc9-174a-4bc2-a777-7921cd3d3a36",
   "metadata": {},
   "outputs": [],
   "source": [
    "#Challenge 2\n",
    "print((6 + 2) * (5 - 2))           \n",
    "print(9 / (3 + 1) + 2)            \n",
    "print(2 * (3 - 5) ** 2)             \n",
    "print(8 / (4 - 2) + (6 - 3))     "
   ]
  },
  {
   "cell_type": "code",
   "execution_count": null,
   "id": "eea1475b-d006-45b7-bc19-e6fa56eda0e6",
   "metadata": {},
   "outputs": [],
   "source": [
    "#Challenge 3\n",
    "print((6 + 2) * (5 - 2) + 10 / 2)          \n",
    "print(9 / (3 + 1) + 2 * (7 - 4))            \n",
    "print(2 * (3 - 5) ** 2 + 4 / (3 - 1))       \n",
    "print((8 / (4 - 2) + (6 - 3)) * 2 - 5)      "
   ]
  },
  {
   "cell_type": "code",
   "execution_count": null,
   "id": "02a44600-0363-4df1-a59c-fa849dd573ff",
   "metadata": {},
   "outputs": [],
   "source": [
    "#Challenge 4\n",
    "print(((6 + 2) * (5 - 2) + 10 / 2) ** 2)   \n",
    "print((9 / (3 + 1) + 2 * (7 - 4)) * 3)      \n",
    "print((2 * (3 - 5) ** 2 + 4 / (3 - 1)) ** 2)  \n",
    "print((((8 / (4 - 2) + (6 - 3)) * 2 - 5) / 2) * 3) "
   ]
  },
  {
   "cell_type": "markdown",
   "id": "7e2e00cb-7883-4547-b721-c51355077df8",
   "metadata": {},
   "source": [
    "### Understanding Modulo Using a 24-Hour Clock\r\n",
    "\r\n",
    "#### What is Modulo?\r\n",
    "\r\n",
    "The modulo operation finds the remainder when one number is divided by another. It is used to determine what remains after performing the division. For example, if you divide 10 by 3, the quotient is 3 and the remainder is 1. The modulo operation in this case would return 1.\r\n",
    "\r\n",
    "#### Using Modulo with a 24-Hour Clock\r\n",
    "\r\n",
    "A 24-hour clock runs from 0 to 23. If you want to find out the time after a certain number of hours have passed, you can use the modulo operation to \"wrap around\" the clock when the total exceeds 23.\r\n",
    "\r\n",
    "##### Example Scenario\r\n",
    "\r\n",
    "Suppose it is 22:00 (10 PM), and you want to know what time it will be in 5 hours. You can calculate this using the following steps:\r\n",
    "\r\n",
    "1. **Add the Current Hour to the Hours to Add**: \r\n",
    "   - Current hour: 22\r\n",
    "   - Hours to add: 5\r\n",
    "   - Total: 22 + 5 = 27\r\n",
    "\r\n",
    "2. **Apply the Modulo Operation**: \r\n",
    "   - Use modulo 24 to wrap around the clock.\r\n",
    "   - Calculation: 27 % 24\r\n",
    "   - Result: 3\r\n",
    "\r\n",
    "So, 5 hours after 22:00, it will be 03:00 (3 AM).\r\n",
    "\r\n",
    "#### More Examples\r\n",
    "\r\n",
    "1. **Adding 10 hours to 17:00 (5 PM)**:\r\n",
    "   - Current hour: 17\r\n",
    "   - Hours to add: 10\r\n",
    "   - Total: 17 + 10 = 27\r\n",
    "   - Calculation: 27 % 24\r\n",
    "   - Result: 3 (03:00 or 3 AM)\r\n",
    "\r\n",
    "2. **Adding 8 hours to 20:00 (8 PM)**:\r\n",
    "   - Current hour: 20\r\n",
    "   - Hours to add: 8\r\n",
    "   - Total: 20 + 8 = 28\r\n",
    "   - Calculation: 28 % 24\r\n",
    "   - Result: 4 (04:00 or 4 AM)\r\n",
    "\r\n",
    "3. **Adding 24 hours to 14:00 (2 PM)**:\r\n",
    "   - Current hour: 14\r\n",
    "   - Hours to add: 24\r\n",
    "   - Total: 14 + 24 = 38\r\n",
    "   - Calculation: 38 % 24\r\n",
    "   - Result: 14 (14:00 or 2 PM) - no change as 24 hours is a full cycle.\r\n",
    "\r\n",
    "The modulo operation is useful for calculations involving cycles or wrapping around, such as hours on a clock, days of the week, or circular lists.\r\n"
   ]
  },
  {
   "cell_type": "code",
   "execution_count": null,
   "id": "26610c25-821d-4053-9150-89e70c1ec25c",
   "metadata": {},
   "outputs": [],
   "source": [
    "#Looking at positive numbers mod 3\n",
    "print(f\"The modulus of 10 % 3 is : {10 % 3}\")\n",
    "print(f\"The modulus of 11 % 3 is : {11 % 3}\")\n",
    "print(f\"The modulus of 12 % 3 is : {12 % 3}\")\n",
    "print(f\"The modulus of 13 % 3 is : {13 % 3}\")"
   ]
  },
  {
   "cell_type": "code",
   "execution_count": null,
   "id": "4ca196e2-2196-426f-8071-816fed46a6cb",
   "metadata": {},
   "outputs": [],
   "source": [
    "#Looking at negative numbers mod 3\n",
    "print(f\"The modulus of -10 % 3 is : {-10 % 3}\")\n",
    "print(f\"The modulus of -11 % 3 is : {-11 % 3}\")\n",
    "print(f\"The modulus of -12 % 3 is : {-12 % 3}\")\n",
    "print(f\"The modulus of -13 % 3 is : {-13 % 3}\")"
   ]
  },
  {
   "cell_type": "code",
   "execution_count": null,
   "id": "9d9a5592-c95e-4791-bee9-6334ef6ece3e",
   "metadata": {},
   "outputs": [],
   "source": [
    "#Looking at floating point numbers mod 3\n",
    "print(f\"The modulus of 10.5 % 3 is : {10.5 % 3}\")\n",
    "print(f\"The modulus of 11.25 % 3 is : {11.25 % 3}\")\n",
    "print(f\"The modulus of -12.5 % 3 is : {-12.5 % 3}\")\n",
    "print(f\"The modulus of -13.75 % 3 is : {-13.75 % 3}\")"
   ]
  },
  {
   "cell_type": "code",
   "execution_count": null,
   "id": "956c1e33-b40f-47cc-b68a-f3dd4625f4cf",
   "metadata": {},
   "outputs": [],
   "source": [
    "#Looking at 0 mod 3 and 3 mod 0\n",
    "print(f\"The modulus of 0 % 3 is : {0 % 3}\")\n",
    "print(f\"The modulus of 3 % 0 is : {3 % 0}\")"
   ]
  },
  {
   "cell_type": "markdown",
   "id": "7575c674-0496-4a0f-8c8c-1b0cbcdb67bb",
   "metadata": {},
   "source": [
    "## Binary, Octal, and Hexadecimal Numbers\n",
    "\n",
    "Python supports binary, octal, and hexadecimal representations of integers.\n",
    "\n",
    "### 0b is for binary\n",
    "\n",
    "### 0o is for octal\n",
    "\n",
    "### 0x is for hexadecimal\n"
   ]
  },
  {
   "cell_type": "code",
   "execution_count": null,
   "id": "d56d6445-c290-442e-8a5d-ff73a6ece78e",
   "metadata": {},
   "outputs": [],
   "source": [
    "# Binary Numbers (base 2)\n",
    "binary_num = 0b1010  # This is 10 in decimal\n",
    "print(f\"Binary number 1010 shown as a decimal number: {binary_num}\")"
   ]
  },
  {
   "cell_type": "code",
   "execution_count": null,
   "id": "ceff27c6-63a8-4b01-8ad3-f35bb6ace79b",
   "metadata": {},
   "outputs": [],
   "source": [
    "# Octal Numbers (base 8)\n",
    "octal_num = 0o12  # This is 10 in decimal\n",
    "print(f\"Octal number 12 shown as a decimal number: {ocatal_num}\")"
   ]
  },
  {
   "cell_type": "code",
   "execution_count": null,
   "id": "05a03119-7cf6-4a86-bd98-06ade3560365",
   "metadata": {},
   "outputs": [],
   "source": [
    "# Hexadecimal Numbers (base 16)\n",
    "hex_num = 0xA  # This is 10 in decimal\n",
    "print(f\"Hexadecimal number A shown as a decimal number: {hex_num}\")"
   ]
  },
  {
   "cell_type": "markdown",
   "id": "c5b0b6cd-d02c-4303-b266-5f830b20d386",
   "metadata": {},
   "source": [
    "# Complex Numbers - THIS IS A STRETCH TASK AND IS NOT REQUIRED FOR THE EXAM OR RSE\n",
    "\n",
    "This is for anyone who has flown through the notebook and is looking for a bit of a challenge.\n",
    "\n",
    "Python supports complex numbers, which include both real and imaginary parts. The imaginary part is denoted by `j` or `J`.\n",
    "\n",
    "## Arithmetic Operations with Complex Numbers\n",
    "\n",
    "### 1. Addition\n",
    "\n",
    "When adding two complex numbers, you add their real parts and their imaginary parts separately.\n",
    "\n",
    "#### Example:\n",
    "Let `a = 2 + 3j` and `b = 1 + 7j`.\n",
    "\n",
    "- Real part: `2 + 1 = 3`\n",
    "- Imaginary part: `3j + 7j = 10j`\n",
    "\n",
    "So, `a + b = 3 + 10j`.\n",
    "\n",
    "### 2. Subtraction\n",
    "\n",
    "When subtracting two complex numbers, you subtract their real parts and their imaginary parts separately.\n",
    "\n",
    "#### Example:\n",
    "Let `a = 5 + 8j` and `b = 3 + 2j`.\n",
    "\n",
    "- Real part: `5 - 3 = 2`\n",
    "- Imaginary part: `8j - 2j = 6j`\n",
    "\n",
    "So, `a - b = 2 + 6j`.\n",
    "\n",
    "### 3. Multiplication\n",
    "\n",
    "When multiplying two complex numbers, you use the distributive property (FOIL method) and apply the fact that `j^2 = -1`.\n",
    "\n",
    "#### Example:\n",
    "Let `a = 2 + 3j` and `b = 1 + 7j`.\n",
    "\n",
    "`(a * b) = (2 + 3j) * (1 + 7j)`\n",
    "\n",
    "- First: `2 * 1 = 2`\n",
    "- Outer: `2 * 7j = 14j`\n",
    "- Inner: `3j * 1 = 3j`\n",
    "- Last: `3j * 7j = 21j^2 = 21 * (-1) = -21`\n",
    "\n",
    "Combine the real and imaginary parts:\n",
    "\n",
    "- Real part: `2 - 21 = -19`\n",
    "- Imaginary part: `14j + 3j = 17j`\n",
    "\n",
    "So, `a * b = -19 + 17j`.\n",
    "\n",
    "### 4. Division\n",
    "\n",
    "When dividing two complex numbers, you multiply the numerator and the denominator by the conjugate of the denominator and simplify.\n",
    "\n",
    "#### Example:\n",
    "Let `a = 4 + 6j` and `b = 2 + 3j`.\n",
    "\n",
    "To divide `a` by `b`:\n",
    "\n",
    "1. Multiply the numerator and denominator by the conjugate of the denominator:\n",
    "\n",
    "`(4 + 6j) / (2 + 3j) * (2 - 3j) / (2 - 3j) = ((4 + 6j) * (2 - 3j)) / ((2 + 3j) * (2 - 3j))`\n",
    "\n",
    "4. Simplify the denominator:\n",
    "\n",
    "`(2 + 3j) * (2 - 3j) = 2^2 - (3j)^2 = 4 - 9(-1) = 4 + 9 = 13`\n",
    "\n",
    "3. Simplify the numerator using the distributive property:\n",
    "\n",
    "`(4 + 6j) * (2 - 3j) = (4 * 2) + (4 * -3j) + (6j * 2) + (6j * -3j) = 8 - 12j + 12j - 18j^2 = 8 - 18(-1) = 8 + 18 = 26`\n",
    "\n",
    "Combine the real and imaginary parts:\n",
    "\n",
    "- Real part: `8 + 18 = 26`\n",
    "- Imaginary part: `-12j + 12j = 0`\n",
    "\n",
    "So, `a / b = 26 / 13 + 0j / 13 = 2 + 0j`."
   ]
  },
  {
   "cell_type": "code",
   "execution_count": null,
   "id": "43149cd3-19d9-4bcb-9d8e-ffa1591390fd",
   "metadata": {},
   "outputs": [],
   "source": [
    "i_num1 = 7j\n",
    "i_num2 = 5j\n",
    "print(f\"7j + 5j = {i_num1 + i_num2}\")\n",
    "print(f\"7j - 5j = {i_num1 - i_num2}\")\n",
    "print(f\"7j * 5j = {i_num1 * i_num2}\")\n",
    "print(f\"7j / 5j = {i_num1 / i_num2}\")"
   ]
  },
  {
   "cell_type": "code",
   "execution_count": null,
   "id": "7c482325-1d4a-4678-bf60-54ca81596b8d",
   "metadata": {},
   "outputs": [],
   "source": [
    "r_i_num1 = 5 + 6j\n",
    "r_i_num2 = 2 + 3j\n",
    "print(f\"(5+6j) + (2+3j) = {r_i_num1 + r_i_num2}\")\n",
    "print(f\"(5+6j) - (2+3j) = {r_i_num1 - r_i_num2}\")\n",
    "print(f\"(5+6j) * (2+3j) = {r_i_num1 * r_i_num2}\")\n",
    "print(f\"(5+6j) / (2+3j) = {r_i_num1 / r_i_num2}\")"
   ]
  },
  {
   "cell_type": "code",
   "execution_count": null,
   "id": "a4122d63-ba17-4c4c-a892-2cdaddb261b1",
   "metadata": {},
   "outputs": [],
   "source": [
    "r_i_num1 = -4 + 7j\n",
    "r_i_num2 = 2 - 2j\n",
    "print(f\"(-4+7j) + (2-2j) = {r_i_num1 + r_i_num2}\")\n",
    "print(f\"(-4+7j) - (2-2j) = {r_i_num1 - r_i_num2}\")\n",
    "print(f\"(-4+7j) * (2-2j) = {r_i_num1 * r_i_num2}\")\n",
    "print(f\"(-4+7j) / (2-2j) = {r_i_num1 / r_i_num2}\")"
   ]
  },
  {
   "cell_type": "code",
   "execution_count": null,
   "id": "20228ccf-3dd4-4546-bde8-497352c30ca2",
   "metadata": {},
   "outputs": [],
   "source": [
    "i_num = 8j\n",
    "r_i_num = 4 + 2j\n",
    "print(f\"(8j) + (4+2j) = {i_num + r_i_num}\")\n",
    "print(f\"(8j) - (4+2j) = {i_num - r_i_num}\")\n",
    "print(f\"(8j) * (4+2j) = {i_num * r_i_num}\")\n",
    "print(f\"(8j) / (4+2j) = {i_num / r_i_num}\")"
   ]
  },
  {
   "cell_type": "code",
   "execution_count": null,
   "id": "8f44925f-170f-4d49-8a21-377655758ec2",
   "metadata": {},
   "outputs": [],
   "source": []
  }
 ],
 "metadata": {
  "kernelspec": {
   "display_name": "Python 3 (ipykernel)",
   "language": "python",
   "name": "python3"
  },
  "language_info": {
   "codemirror_mode": {
    "name": "ipython",
    "version": 3
   },
   "file_extension": ".py",
   "mimetype": "text/x-python",
   "name": "python",
   "nbconvert_exporter": "python",
   "pygments_lexer": "ipython3",
   "version": "3.11.7"
  }
 },
 "nbformat": 4,
 "nbformat_minor": 5
}
