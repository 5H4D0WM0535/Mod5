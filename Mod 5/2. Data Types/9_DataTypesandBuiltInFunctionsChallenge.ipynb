{
 "cells": [
  {
   "cell_type": "markdown",
   "id": "3806c930-9a78-457a-8ae8-de34a85b690a",
   "metadata": {},
   "source": [
    "## Data Types and Common Built-in Functions Challenge\n",
    "\n",
    "**Instructions:** Use an IDE of your choice (PyCharm or VSCode is recommended) to solve the following challenges.\n",
    "\n",
    "### Challenge 1: Convert Integer to String\n",
    "**Challenge:** Convert the integer `123` to a string.\n",
    "- **Input:** `123`\n",
    "- **Expected Output:** `\"123\"`\n",
    "\n",
    "### Challenge 2: Find the Length of a String\n",
    "**Challenge:** Find the length of the string `\"Hello, World!\"`.\n",
    "- **Input:** `\"Hello, World!\"`\n",
    "- **Expected Output:** `13`\n",
    "\n",
    "### Challenge 3: List to Tuple\n",
    "**Challenge:** Convert the list `[1, 2, 3]` to a tuple.\n",
    "- **Input:** `[1, 2, 3]`\n",
    "- **Expected Output:** `(1, 2, 3)`\n",
    "\n",
    "### Challenge 4: Access Dictionary Value\n",
    "**Challenge:** Access the value associated with the key `\"name\"` in the dictionary `{\"name\": \"Alice\", \"age\": 25}`.\n",
    "- **Input:** `{\"name\": \"Alice\", \"age\": 25}`\n",
    "- **Expected Output:** `\"Alice\"`\n",
    "\n",
    "### Challenge 5: Check Type of a Variable\n",
    "**Challenge:** Check the type of the variable `3.14`.\n",
    "- **Input:** `3.14`\n",
    "- **Expected Output:** `<class 'float'>`\n",
    "\n",
    "### Challenge 6: Sum of List Elements\n",
    "**Challenge:** Find the sum of the elements in the list `[4, 5, 6]`.\n",
    "- **Input:** `[4, 5, 6]`\n",
    "- **Expected Output:** `15`\n",
    "\n",
    "### Challenge 7: Minimum Value in List\n",
    "**Challenge:** Find the minimum value in the list `[7, 2, 8, 1, 9]`.\n",
    "- **Input:** `[7, 2, 8, 1, 9]`\n",
    "- **Expected Output:** `1`\n",
    "\n",
    "### Challenge 8: Maximum Value in Tuple\n",
    "**Challenge:** Find the maximum value in the tuple `(3, 5, 2, 8, 1)`.\n",
    "- **Input:** `(3, 5, 2, 8, 1)`\n",
    "- **Expected Output:** `8`\n",
    "\n",
    "### Challenge 9: Count Occurrences in List\n",
    "**Challenge:** Count the number of times `2` appears in the list `[1, 2, 2, 3, 4, 2]`.\n",
    "- **Input:** `[1, 2, 2, 3, 4, 2]`\n",
    "- **Expected Output:** `3`\n",
    "\n",
    "### Challenge 10: Check if Key Exists in Dictionary\n",
    "**Challenge:** Check if the key `\"age\"` exists in the dictionary `{\"name\": \"Bob\", \"age\": 30}`.\n",
    "- **Input:** `{\"name\": \"Bob\", \"age\": 30}`\n",
    "- **Expected Output:** `True`\n",
    "\n",
    "### Challenge 11: Join List of Strings\n",
    "**Challenge:** Join the list of strings `[\"apple\", \"banana\", \"cherry\"]` into a single string with spaces in between.\n",
    "- **Input:** `[\"apple\", \"banana\", \"cherry\"]`\n",
    "- **Expected Output:** `\"apple banana cherry\"`\n",
    "\n",
    "### Challenge 12: Sort List in Ascending Order\n",
    "**Challenge:** Sort the list `[4, 2, 9, 1, 5]` in ascending order.\n",
    "- **Input:** `[4, 2, 9, 1, 5]`\n",
    "- **Expected Output:** `[1, 2, 4, 5, 9]`\n",
    "\n",
    "### Challenge 13: Reverse a String\n",
    "**Challenge:** Reverse the string `\"Python\"`.\n",
    "- **Input:** `\"Python\"`\n",
    "- **Expected Output:** `\"nohtyP\"`\n",
    "\n",
    "### Challenge 14: Find Index of Element in List\n",
    "**Challenge:** Find the index of the element `3` in the list `[5, 3, 7, 3, 9]`.\n",
    "- **Input:** `[5, 3, 7, 3, 9]`\n",
    "- **Expected Output:** `1`\n",
    "\n",
    "### Challenge 15: Convert String to Uppercase\n",
    "**Challenge:** Convert the string `\"hello\"` to uppercase.\n",
    "- **Input:** `\"hello\"`\n",
    "- **Expected Output:** `\"HELLO\"`\n",
    "\n",
    "### Challenge 16: Split String into List\n",
    "**Challenge:** Split the string `\"a,b,c,d\"` into a list using comma as the delimiter.\n",
    "- **Input:** `\"a,b,c,d\"`\n",
    "- **Expected Output:** `[\"a\", \"b\", \"c\", \"d\"]`\n",
    "\n",
    "### Challenge 17: Remove Element from List\n",
    "**Challenge:** Remove the first occurrence of the element `2` from the list `[1, 2, 3, 2, 4]`.\n",
    "- **Input:** `[1, 2, 3, 2, 4]`\n",
    "- **Expected Output:** `[1, 3, 2, 4]`\n",
    "\n",
    "### Challenge 18: Check if List is Empty\n",
    "**Challenge:** Check if the list `[]` is empty.\n",
    "- **Input:** `[]`\n",
    "- **Expected Output:** `True`\n",
    "\n",
    "### Challenge 19: Convert String to List of Characters\n",
    "**Challenge:** Convert the string `\"hello\"` to a list of characters.\n",
    "- **Input:** `\"hello\"`\n",
    "- **Expected Output:** `[\"h\", \"e\", \"l\", \"l\", \"o\"]`\n",
    "\n",
    "### Challenge 20: Create a Set from a List\n",
    "**Challenge:** Create a set from the list `[1, 2, 2, 3, 4, 4, 5]` to remove duplicates.\n",
    "- **Input:** `[1, 2, 2, 3, 4, 4, 5]`\n",
    "- **Expected Output:** `{1, 2, 3, 4, 5}`\n",
    "\n",
    "### Challenge 21: Sort List in Descending Order\n",
    "**Challenge:** Sort the list `[4, 2, 9, 1, 5]` in descending order.\n",
    "- **Input:** `[4, 2, 9, 1, 5]`\n",
    "- **Expected Output:** `[9, 5, 4, 2, 1]`\n"
   ]
  },
  {
   "cell_type": "code",
   "execution_count": 14,
   "id": "81efd389-ff82-4192-aec6-26ed5ef4c991",
   "metadata": {},
   "outputs": [],
   "source": [
    "my_dict = {\"name\": \"Bob\", \"age\": 30}"
   ]
  },
  {
   "cell_type": "code",
   "execution_count": 16,
   "id": "a8cb3e59-f9ae-4916-a654-e7c9ff5f43f7",
   "metadata": {},
   "outputs": [
    {
     "name": "stdout",
     "output_type": "stream",
     "text": [
      "True\n"
     ]
    }
   ],
   "source": [
    "print('age' in my_dict)"
   ]
  },
  {
   "cell_type": "code",
   "execution_count": 18,
   "id": "3bffc1ad-c859-4bf8-9c53-870ef2aaf6f6",
   "metadata": {},
   "outputs": [
    {
     "data": {
      "text/plain": [
       "'apple banana cherry'"
      ]
     },
     "execution_count": 18,
     "metadata": {},
     "output_type": "execute_result"
    }
   ],
   "source": [
    "\" \".join([\"apple\", \"banana\", \"cherry\"])"
   ]
  },
  {
   "cell_type": "code",
   "execution_count": 28,
   "id": "114a944c-74d1-4828-9dca-d4cf5f01cff8",
   "metadata": {},
   "outputs": [
    {
     "name": "stdout",
     "output_type": "stream",
     "text": [
      "True\n"
     ]
    }
   ],
   "source": []
  },
  {
   "cell_type": "code",
   "execution_count": null,
   "id": "492b8578-729a-45e8-8f26-3cbab538b501",
   "metadata": {},
   "outputs": [],
   "source": []
  }
 ],
 "metadata": {
  "kernelspec": {
   "display_name": "Python 3 (ipykernel)",
   "language": "python",
   "name": "python3"
  },
  "language_info": {
   "codemirror_mode": {
    "name": "ipython",
    "version": 3
   },
   "file_extension": ".py",
   "mimetype": "text/x-python",
   "name": "python",
   "nbconvert_exporter": "python",
   "pygments_lexer": "ipython3",
   "version": "3.11.7"
  }
 },
 "nbformat": 4,
 "nbformat_minor": 5
}
