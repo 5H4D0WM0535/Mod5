{
 "cells": [
  {
   "cell_type": "markdown",
   "id": "1114c1c3-af5f-4b19-b722-38be8b00c0c6",
   "metadata": {},
   "source": [
    "# Python Built-in Functions Grouped by Importance\n",
    "\n",
    "## Essential Functions\n",
    "\n",
    "These functions are frequently used and fundamental to Python programming.\n",
    "\n",
    "- `print()`: Prints objects to the console.\n",
    "- `len()`: Returns the length of an object.\n",
    "- `type()`: Returns the type of an object or creates a new type.\n",
    "- `str()`: Converts a value to a string.\n",
    "- `int()`: Converts a value to an integer.\n",
    "- `float()`: Converts a value to a float.\n",
    "- `input()`: Reads a line of input from the user.\n",
    "- `list()`: Creates a list.\n",
    "- `dict()`: Creates a dictionary.\n",
    "- `set()`: Creates a set.\n",
    "- `tuple()`: Creates a tuple.\n",
    "- `abs()`: Returns the absolute value of a number.\n",
    "- `sum()`: Sums the items of an iterable.\n",
    "- `min()`: Returns the minimum value of an iterable or arguments.\n",
    "- `max()`: Returns the maximum value of an iterable or arguments.\n",
    "- `round()`: Rounds a number to a given precision.\n",
    "- `range()`: Generates a sequence of numbers.\n",
    "- `open()`: Opens a file and returns a file object.\n",
    "- `sorted()`: Returns a sorted list from an iterable.\n",
    "- `enumerate()`: Returns an enumerate object.\n",
    "- `zip()`: Returns an iterator that aggregates elements from multiple iterables.\n",
    "- `map()`: Applies a function to all items in an iterable.\n",
    "- `filter()`: Filters elements of an iterable.\n",
    "- `chr()`: Converts an integer to a character.\n",
    "- `ord()`: Converts a character to its Unicode code."
   ]
  },
  {
   "cell_type": "code",
   "execution_count": 10,
   "id": "6fb52908-cce8-4798-88cb-d93aa1e0e01f",
   "metadata": {},
   "outputs": [
    {
     "name": "stdout",
     "output_type": "stream",
     "text": [
      "35\n"
     ]
    }
   ],
   "source": [
    "#Looking at the lenght of a string\n",
    "print(len(\"This sentance is 35 characters long\"))"
   ]
  },
  {
   "cell_type": "code",
   "execution_count": 12,
   "id": "9f218a15-636d-477d-bd3b-c2e8d4421b05",
   "metadata": {},
   "outputs": [
    {
     "name": "stdout",
     "output_type": "stream",
     "text": [
      "5\n"
     ]
    }
   ],
   "source": [
    "#Looking at the lenght of a list\n",
    "print(len([1,2,3,4,5]))"
   ]
  },
  {
   "cell_type": "code",
   "execution_count": 18,
   "id": "c279c1ac-c267-401b-92d3-0a6268aa9d59",
   "metadata": {},
   "outputs": [
    {
     "name": "stdout",
     "output_type": "stream",
     "text": [
      "65\n",
      "<class 'int'>\n",
      "65\n",
      "<class 'str'>\n"
     ]
    }
   ],
   "source": [
    "#Showing the casting of an integer to a string\n",
    "print(65)\n",
    "print(type(65))\n",
    "print(str(65))\n",
    "print(type(str(65)))"
   ]
  },
  {
   "cell_type": "markdown",
   "id": "e5ea7984-33a0-4cb6-9fe9-211283f79919",
   "metadata": {},
   "source": [
    "## Frequently Used Functions\n",
    "\n",
    "These functions are commonly used in many Python programs.\n",
    "\n",
    "- `all()`: Returns True if all elements of an iterable are true.\n",
    "- `any()`: Returns True if any element of an iterable is true.\n",
    "- `bool()`: Converts a value to a Boolean.\n",
    "- `bytes()`: Returns a bytes object.\n",
    "- `bytearray()`: Returns a bytearray object.\n",
    "- `callable()`: Checks if an object is callable.\n",
    "- `complex()`: Creates a complex number.\n",
    "- `divmod()`: Returns the quotient and remainder of integer division.\n",
    "- `eval()`: Evaluates and executes an expression.\n",
    "- `exec()`: Executes dynamically created Python code.\n",
    "- `hex()`: Converts an integer to a hexadecimal string.\n",
    "- `id()`: Returns the identity of an object.\n",
    "- `isinstance()`: Checks if an object is an instance of a class.\n",
    "- `issubclass()`: Checks if a class is a subclass of another class.\n",
    "- `iter()`: Returns an iterator object.\n",
    "- `pow()`: Returns the value of a number raised to a power.\n",
    "- `repr()`: Returns a string representation of an object.\n",
    "- `reversed()`: Returns a reversed iterator.\n",
    "- `slice()`: Returns a slice object.\n",
    "- `staticmethod()`: Converts a method into a static method.\n",
    "- `super()`: Returns a proxy object that delegates method calls to a parent or sibling class.\n",
    "- `vars()`: Returns the `__dict__` attribute of an object."
   ]
  },
  {
   "cell_type": "markdown",
   "id": "3b927a32-1cb3-49f4-8bbd-48a7f84d3dad",
   "metadata": {},
   "source": [
    "## Less Frequently Used Functions\n",
    "\n",
    "These functions are used less frequently but are still important in specific contexts.\n",
    "\n",
    "- `ascii()`: Returns a string containing a printable representation of an object.\n",
    "- `bin()`: Converts an integer to a binary string.\n",
    "- `classmethod()`: Converts a method into a class method.\n",
    "- `compile()`: Compiles source code to a code object.\n",
    "- `delattr()`: Deletes an attribute from an object.\n",
    "- `frozenset()`: Returns a frozenset object.\n",
    "- `getattr()`: Returns the value of an attribute of an object.\n",
    "- `globals()`: Returns the current global symbol table as a dictionary.\n",
    "- `hasattr()`: Checks if an object has an attribute.\n",
    "- `hash()`: Returns the hash value of an object.\n",
    "- `help()`: Invokes the built-in help system.\n",
    "- `memoryview()`: Returns a memory view object.\n",
    "- `next()`: Retrieves the next item from an iterator.\n",
    "- `object()`: Creates a new object.\n",
    "- `oct()`: Converts an integer to an octal string.\n",
    "- `property()`: Returns a property attribute.\n",
    "- `setattr()`: Sets the value of an attribute of an object.\n",
    "- `classmethod()`: Converts a method into a class method.\n",
    "- `compile()`: Compiles source code to a code object.\n",
    "- `property()`: Returns a property attribute."
   ]
  },
  {
   "cell_type": "markdown",
   "id": "bb9b3dcf-00c7-4796-beaa-0bc685335000",
   "metadata": {},
   "source": [
    "## Specialized Functions\n",
    "\n",
    "These functions are highly specialized and used in specific advanced scenarios.\n",
    "\n",
    "- `__import__()`: Invokes the import mechanism.\n",
    "- `delattr()`: Deletes an attribute from an object.\n",
    "- `memoryview()`: Returns a memory view object.\n",
    "- `property()`: Returns a property attribute.\n",
    "- `staticmethod()`: Converts a method into a static method.\n",
    "- `super()`: Returns a proxy object that delegates method calls to a parent or sibling class.\n",
    "- `vars()`: Returns the `__dict__` attribute of an object."
   ]
  },
  {
   "cell_type": "code",
   "execution_count": null,
   "id": "209938d7-84f5-4731-9ae1-231f5f8ed5cd",
   "metadata": {},
   "outputs": [],
   "source": []
  }
 ],
 "metadata": {
  "kernelspec": {
   "display_name": "Python 3 (ipykernel)",
   "language": "python",
   "name": "python3"
  },
  "language_info": {
   "codemirror_mode": {
    "name": "ipython",
    "version": 3
   },
   "file_extension": ".py",
   "mimetype": "text/x-python",
   "name": "python",
   "nbconvert_exporter": "python",
   "pygments_lexer": "ipython3",
   "version": "3.11.7"
  }
 },
 "nbformat": 4,
 "nbformat_minor": 5
}
