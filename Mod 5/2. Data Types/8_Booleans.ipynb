{
 "cells": [
  {
   "cell_type": "markdown",
   "id": "e022bd63-b2f9-43a0-8c4f-64c4495ba346",
   "metadata": {},
   "source": [
    "## Booleans\r\n",
    "\r\n",
    "Booleans represent one of two values: `True` or `False`. They are often used in conditional statements and control flow.\r\n",
    "\r\n",
    "### Boolean Values\r\n",
    "\r\n",
    "In Python, the boolean values are `True` and `False`. They are the result of comparison operations or logical operations.\r\n"
   ]
  },
  {
   "cell_type": "code",
   "execution_count": null,
   "id": "8ca02f32-02de-493b-87dd-81caf72cb71e",
   "metadata": {},
   "outputs": [],
   "source": [
    "a = True\n",
    "b = False\n",
    "\n",
    "print(a)  # Output: True\n",
    "print(b)  # Output: False\n"
   ]
  },
  {
   "cell_type": "markdown",
   "id": "7b94c15d-d8a8-45ec-b97f-d056549f5df2",
   "metadata": {},
   "source": [
    "### Comparison Operators\r\n",
    "\r\n",
    "Comparison operators are used to compare two values. They return either `True` or `False`.\r\n",
    "\r\n",
    "- `==` : Equal to\r\n",
    "- `!=` : Not equal to\r\n",
    "- `>` : Greater than\r\n",
    "- `<` : Less than\r\n",
    "- `>=` : Greater than or equal to\r\n",
    "- `<=` : Less than or equal to\r\n",
    "\r\n",
    "#### Examples\r\n"
   ]
  },
  {
   "cell_type": "code",
   "execution_count": null,
   "id": "e73c6003-94d7-4ee9-a733-a3ac1a2d9205",
   "metadata": {},
   "outputs": [],
   "source": [
    "# Comparing integers\n",
    "\n",
    "x = 10\n",
    "y = 20\n",
    "\n",
    "print(x == y)  # Output: False\n",
    "print(x != y)  # Output: True\n",
    "print(x > y)   # Output: False\n",
    "print(x < y)   # Output: True\n",
    "print(x >= y)  # Output: False\n",
    "print(x <= y)  # Output: True\n"
   ]
  },
  {
   "cell_type": "markdown",
   "id": "9c25aa02-93a2-40df-928e-56f055873858",
   "metadata": {},
   "source": [
    "### Logical Operators\n",
    "\n",
    "Logical operators are used to combine conditional statements. They include:\n",
    "\n",
    "- `and` : Returns `True` if both statements are true\n",
    "- `or` : Returns `True` if one of the statements is true\n",
    "- `not` : Reverses the result, returns `False` if the result is true\n",
    "\n",
    "#### Examples"
   ]
  },
  {
   "cell_type": "code",
   "execution_count": null,
   "id": "df30c9bb-d56b-4690-ab2e-947636a0d206",
   "metadata": {},
   "outputs": [],
   "source": [
    "a = True\n",
    "b = False\n",
    "\n",
    "print(a and b)  # Output: False\n",
    "print(a or b)   # Output: True\n",
    "print(not a)    # Output: False\n"
   ]
  },
  {
   "cell_type": "markdown",
   "id": "92a691fd-d037-4fe3-80ea-6b0a927ee34c",
   "metadata": {},
   "source": [
    "### Boolean Functions\n",
    "\n",
    "Several built-in functions return boolean values:\n",
    "\n",
    "- `bool()`: Converts a value to a boolean\n",
    "- `isinstance()`: Checks if an object is an instance of a specified class or type\n",
    "\n",
    "#### Examples"
   ]
  },
  {
   "cell_type": "code",
   "execution_count": null,
   "id": "a09353f9-bf68-4594-b768-7146012d8708",
   "metadata": {},
   "outputs": [],
   "source": [
    "# Using bool() function\n",
    "print(bool(0))     # Output: False\n",
    "print(bool(1))     # Output: True\n",
    "print(bool(\"\"))    # Output: False\n",
    "print(bool(\"Hello\"))  # Output: True\n",
    "\n",
    "# Using isinstance() function\n",
    "x = 10\n",
    "print(isinstance(x, int))  # Output: True\n",
    "print(isinstance(x, str))  # Output: False\n"
   ]
  },
  {
   "cell_type": "markdown",
   "id": "9ac9db3e-aa37-45ab-8943-8f2866614044",
   "metadata": {},
   "source": [
    "In Python, several values are considered \"falsy,\" meaning they evaluate to `False` in a Boolean context. Understanding these falsy values can help you write more concise and readable code, especially in conditional statements.\n",
    "\n",
    "#### Falsy Values\n",
    "\n",
    "1. **The Boolean value `False`**\n",
    "2. **The special value `None`**\n",
    "3. **Zero of any numeric type**:\n",
    "   - `0` (integer)\n",
    "   - `0.0` (floating-point)\n",
    "   - `0j` (complex number)\n",
    "\n",
    "4. **Empty sequences and collections**:\n",
    "   - `''` (empty string)\n",
    "   - `[]` (empty list)\n",
    "   - `()` (empty tuple)\n",
    "   - `{}` (empty dictionary)\n",
    "   - `set()` (empty set)\n",
    "   - `frozenset()` (empty frozenset)\n",
    "\n",
    "5. **Other empty containers**:\n",
    "   - `bytearray(b'')` (empty byte array)\n",
    "   - `bytes()` (empty bytes object)\n",
    "   - `range(0)` (empty range)"
   ]
  },
  {
   "cell_type": "markdown",
   "id": "8088ed1a-cd6c-45c1-b48c-17fdb416b1f8",
   "metadata": {},
   "source": [
    "# Challenge\n",
    "\n",
    "## Comparison and Logical Operators with Different Data Types\n",
    "\n",
    "### Comparison Operators\n",
    "\n",
    "Comparison operators can be used with different data types such as strings, lists, and tuples.\n",
    "\n",
    "**Think about what the answer should be before running the cell try to build up your intuition of how the code runs**\n",
    "\n",
    "#### Examples with Strings"
   ]
  },
  {
   "cell_type": "code",
   "execution_count": null,
   "id": "6999e5e3-f709-4352-bfbc-9f1eae04ac34",
   "metadata": {},
   "outputs": [],
   "source": [
    "# Comparing strings (lexicographically)\n",
    "str1 = \"apple\"\n",
    "str2 = \"banana\"\n",
    "\n",
    "print(str1 == str2)   \n",
    "print(str1 != str2)   \n",
    "print(str1 < str2)    \n",
    "print(str1 > str2)    "
   ]
  },
  {
   "cell_type": "markdown",
   "id": "ad5ab2f0-c85d-4bf1-95a2-8a26e067a508",
   "metadata": {},
   "source": [
    "#### Examples with Lists"
   ]
  },
  {
   "cell_type": "code",
   "execution_count": null,
   "id": "f2f16cb5-2ff7-4dab-a0e2-bc9cd7f32430",
   "metadata": {},
   "outputs": [],
   "source": [
    "# Comparing lists (element wise)\n",
    "list1 = [1, 2, 3]\n",
    "list2 = [1, 2, 3]\n",
    "list3 = [4, 5, 6]\n",
    "\n",
    "print(list1 == list2)  \n",
    "print(list1 != list3)   \n",
    "print(list1 < list3)   \n",
    "print(list1 > list3)    \n"
   ]
  },
  {
   "cell_type": "markdown",
   "id": "7343d7dc-6e21-43dc-b9ce-089059cdb203",
   "metadata": {},
   "source": [
    "#### Examples with Tuples"
   ]
  },
  {
   "cell_type": "code",
   "execution_count": null,
   "id": "86194107-7786-4721-bca4-6950c19d1b75",
   "metadata": {},
   "outputs": [],
   "source": [
    "# Comparing tuples\n",
    "tuple1 = (1, 2, 3)\n",
    "tuple2 = (1, 2, 3)\n",
    "tuple3 = (4, 5, 6)\n",
    "\n",
    "print(tuple1 == tuple2)\n",
    "print(tuple1 != tuple3)   \n",
    "print(tuple1 < tuple3)    \n",
    "print(tuple1 > tuple3)    \n"
   ]
  },
  {
   "cell_type": "markdown",
   "id": "cf92d42a-7c2c-43a2-b7af-a332b242e0e3",
   "metadata": {},
   "source": [
    "### Logical Operators\n",
    "\n",
    "#### Examples with numbers"
   ]
  },
  {
   "cell_type": "code",
   "execution_count": null,
   "id": "2cd7ec53-6677-482b-a972-d3c6349a439b",
   "metadata": {},
   "outputs": [],
   "source": [
    "# Logical operators with numbers\n",
    "num1 = 0\n",
    "num2 = 1\n",
    "num3 = -5\n",
    "\n",
    "print(num1 and num2)  \n",
    "print(num2 and num3)  \n",
    "print(num1 or num2)   \n",
    "print(num1 or num3)   \n",
    "print(not num1)       \n",
    "print(not num2)       \n"
   ]
  },
  {
   "cell_type": "markdown",
   "id": "26bbc618-c5f1-408e-9431-66d5b2ebfc99",
   "metadata": {},
   "source": [
    "#### Examples with Strings"
   ]
  },
  {
   "cell_type": "code",
   "execution_count": null,
   "id": "f8432d9c-cf90-4478-8c1c-807b4bf6347d",
   "metadata": {},
   "outputs": [],
   "source": [
    "# Logical operators with strings\n",
    "str1 = \"\"\n",
    "str2 = \"Hello\"\n",
    "\n",
    "print(str1 and str2)  \n",
    "print(str2 and str1)  \n",
    "print(str1 or str2)  \n",
    "print(not str1)     \n",
    "print(not str2)       \n"
   ]
  },
  {
   "cell_type": "markdown",
   "id": "c6687f38-125d-45b7-8709-38892d23e742",
   "metadata": {},
   "source": [
    "#### Example with Lists"
   ]
  },
  {
   "cell_type": "code",
   "execution_count": null,
   "id": "af41315e-60fc-49ea-bb3d-911a0d15cb0e",
   "metadata": {},
   "outputs": [],
   "source": [
    "# Logical operators with lists\n",
    "list1 = []\n",
    "list2 = [1, 2, 3]\n",
    "\n",
    "print(list1 and list2) \n",
    "print(list2 and list1) \n",
    "print(list1 or list2)   \n",
    "print(not list1)      \n",
    "print(not list2)       \n"
   ]
  },
  {
   "cell_type": "markdown",
   "id": "68339ad4-daa8-4d33-8359-ac5f81d339f0",
   "metadata": {},
   "source": [
    "#### Example with Tuples"
   ]
  },
  {
   "cell_type": "code",
   "execution_count": null,
   "id": "b78e4aa1-1382-4c84-bfcd-4bafaf025af7",
   "metadata": {},
   "outputs": [],
   "source": [
    "# Logical operators with tuples\n",
    "tuple1 = ()\n",
    "tuple2 = (1, 2, 3)\n",
    "\n",
    "print(tuple1 and tuple2) \n",
    "print(tuple2 and tuple1) \n",
    "print(tuple1 or tuple2)  \n",
    "print(not tuple1)       \n",
    "print(not tuple2)         \n"
   ]
  }
 ],
 "metadata": {
  "kernelspec": {
   "display_name": "Python 3 (ipykernel)",
   "language": "python",
   "name": "python3"
  },
  "language_info": {
   "codemirror_mode": {
    "name": "ipython",
    "version": 3
   },
   "file_extension": ".py",
   "mimetype": "text/x-python",
   "name": "python",
   "nbconvert_exporter": "python",
   "pygments_lexer": "ipython3",
   "version": "3.11.7"
  }
 },
 "nbformat": 4,
 "nbformat_minor": 5
}
