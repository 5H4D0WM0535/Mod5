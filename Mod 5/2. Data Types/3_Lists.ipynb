{
 "cells": [
  {
   "cell_type": "markdown",
   "id": "3f7660d0-7817-40e9-9e0b-a5e89e693d69",
   "metadata": {},
   "source": [
    "# Python List\n",
    "\n",
    "A Python list is a versatile and widely-used data structure that can store an ordered collection of items. Here’s a detailed description of its key features, characteristics, and functionalities:\n",
    "\n",
    "## 1. Definition and Syntax\n",
    "\n",
    "A list in Python is defined by enclosing a comma-separated sequence of items within square brackets `[]`.\n",
    "\n",
    "<code>my_list = [1, 2, 3, 4, 5]</code>\n",
    "\n",
    "## 2. Characteristics\n",
    "\n",
    "- **Ordered**: The items in a list have a defined order, and that order will not change unless explicitly modified.\n",
    "- **Mutable**: The elements in a list can be changed or modified. You can add, remove, or change items after the list has been created.\n",
    "- **Heterogeneous**: A list can contain items of different data types (e.g., integers, strings, objects).\n",
    "\n",
    "<code>heterogeneous_list = [1, \"hello\", 3.14, True]</code>\n",
    "\n",
    "## 3. Basic Operations\n",
    "\n",
    "### Accessing Elements\n",
    "\n",
    "You can access elements by their index, starting from `0`.\n",
    "\n",
    "<code>first_element = my_list[0]  # 1\n",
    "last_element = my_list[-1]  # 5</code>\n",
    "\n",
    "### Slicing\n",
    "\n",
    "You can extract a part of the list using slicing.\n",
    "\n",
    "<code>sub_list = my_list[1:3]  # [2, 3]</code>\n",
    "\n",
    "### Adding Elements\n",
    "\n",
    "Use `append()`, `insert()`, or `extend()` to add elements.\n",
    "\n",
    "<code>my_list.append(6)           # [1, 2, 3, 4, 5, 6]\n",
    "my_list.insert(2, 2.5)      # [1, 2, 2.5, 3, 4, 5, 6]\n",
    "my_list.extend([7, 8, 9])   # [1, 2, 2.5, 3, 4, 5, 6, 7, 8, 9]</code>\n",
    "\n",
    "### Removing Elements\n",
    "\n",
    "Use `remove()`, `pop()`, or `del` to remove elements.\n",
    "\n",
    "<code>my_list.remove(2.5)         # [1, 2, 3, 4, 5, 6, 7, 8, 9]\n",
    "last_element = my_list.pop()  # 9, list is now [1, 2, 3, 4, 5, 6, 7, 8]\n",
    "del my_list[0]              # [2, 3, 4, 5, 6, 7, 8]</code>\n",
    "\n",
    "## 4. Common List Methods\n",
    "\n",
    "### `len()`\n",
    "\n",
    "Returns the number of elements in the list.\n",
    "\n",
    "<code>length = len(my_list)  # 7</code>\n",
    "\n",
    "### `sort()`\n",
    "\n",
    "Sorts the list in place.\n",
    "\n",
    "<code>my_list.sort()  # [2, 3, 4, 5, 6, 7, 8]</code>\n",
    "\n",
    "### `reverse()`\n",
    "\n",
    "Reverses the list in place.\n",
    "\n",
    "<code>my_list.reverse()  # [8, 7, 6, 5, 4, 3, 2]</code>\n",
    "\n",
    "### `index()`\n",
    "\n",
    "Returns the index of the first occurrence of a value.\n",
    "\n",
    "<code>index_of_5 = my_list.index(5)  # 3</code>\n",
    "\n",
    "### `count()`\n",
    "\n",
    "Returns the number of occurrences of a value.\n",
    "\n",
    "<code>count_of_7 = my_list.count(7)  # 1</code>\n",
    "\n",
    "### `copy()`\n",
    "\n",
    "Returns a shallow copy of the list.\n",
    "\n",
    "<code>list_copy = my_list.copy()  # [8, 7, 6, 5, 4, 3, 2]</code>\n",
    "\n",
    "### `clear()`\n",
    "\n",
    "Removes all elements from the list.\n",
    "\n",
    "<code>my_list.clear()  # []</code>\n",
    "\n",
    "## 5. List Comprehensions\n",
    "\n",
    "A concise way to create lists.\n",
    "\n",
    "<code>squares = [x**2 for x in range(10)]  # [0, 1, 4, 9, 16, 25, 36, 49, 64, 81]</code>\n",
    "\n",
    "## 6. Nesting Lists\n",
    "\n",
    "Lists can contain other lists, enabling the creation of multi-dimensional arrays.\n",
    "\n",
    "<code>matrix = [[1, 2, 3], [4, 5, 6], [7, 8, 9]]\n",
    "element = matrix[1][2]  # 6</code>\n",
    "\n",
    "## 7. Iterating Over Lists\n",
    "\n",
    "You can iterate over the elements of a list using a loop.\n",
    "\n",
    "<code>for item in my_list:\n",
    "    print(item)</code>\n",
    "\n",
    "## 8. Memory and Performance\n",
    "\n",
    "- **Memory Efficiency**: Lists are dynamic arrays that automatically handle memory allocation.\n",
    "- **Performance**: Insertion and deletion of elements at the end of the list are efficient, while operations at the beginning or middle of the list can be slower due to shifting elements.\n",
    "\n",
    "## Summary\n",
    "\n",
    "Python lists are flexible, mutable sequences that can store collections of heterogeneous items. They offer a wide range of functionalities for adding, removing, and manipulating elements, making them a powerful tool for handling collections of data.\r\n",
    "</body>\r\n",
    "</html>\r\n"
   ]
  },
  {
   "cell_type": "markdown",
   "id": "ba9a851b-c030-4f41-9c77-7dd27656e26a",
   "metadata": {},
   "source": [
    "# Creating Lists"
   ]
  },
  {
   "cell_type": "code",
   "execution_count": null,
   "id": "b32a0ae5-caed-417d-85da-8b9327d54a7d",
   "metadata": {},
   "outputs": [],
   "source": [
    "# Empty list\n",
    "empty_list = []\n",
    "\n",
    "# List of integers\n",
    "numbers = [1, 2, 3, 4, 5]\n",
    "\n",
    "# List of strings\n",
    "fruits = ['apple', 'banana', 'cherry']\n",
    "\n",
    "# Mixed data types\n",
    "mixed = [1, 'apple', True, 3.14]"
   ]
  },
  {
   "cell_type": "markdown",
   "id": "060e0516-a625-4c7e-8c70-827d947e59cd",
   "metadata": {},
   "source": [
    "# Accessing Elements"
   ]
  },
  {
   "cell_type": "code",
   "execution_count": null,
   "id": "81670bc2-56a3-4c96-8b33-964da840b752",
   "metadata": {},
   "outputs": [],
   "source": [
    "numbers = [1, 2, 3, 4, 5]\n",
    "\n",
    "# Accessing elements\n",
    "print(numbers[0])  # 1\n",
    "print(numbers[-1])  # 5 (last element)"
   ]
  },
  {
   "cell_type": "markdown",
   "id": "ad5fe3bc-b9a8-4443-9c34-7de01948a390",
   "metadata": {},
   "source": [
    "# List Methods\n",
    "\n",
    "<https://www.w3schools.com/python/python_ref_list.asp>"
   ]
  },
  {
   "cell_type": "code",
   "execution_count": null,
   "id": "c963a731-f98b-41aa-96da-6f363e069f66",
   "metadata": {},
   "outputs": [],
   "source": [
    "fruits = ['apple', 'banana', 'cherry']\n",
    "\n",
    "# Append and Extend\n",
    "fruits.append('orange')  # ['apple', 'banana', 'cherry', 'orange']\n",
    "fruits.extend(['grape', 'kiwi'])  # ['apple', 'banana', 'cherry', 'orange', 'grape', 'kiwi']\n",
    "\n",
    "# Insert and Remove\n",
    "fruits.insert(2, 'pear')  # ['apple', 'banana', 'pear', 'cherry', 'orange', 'grape', 'kiwi']\n",
    "fruits.remove('banana')  # ['apple', 'pear', 'cherry', 'orange', 'grape', 'kiwi']\n",
    "\n",
    "# Sorting and Reversing\n",
    "fruits.sort()  # ['apple', 'cherry', 'grape', 'kiwi', 'orange', 'pear']\n",
    "fruits.reverse()  # ['pear', 'orange', 'kiwi', 'grape', 'cherry', 'apple']\n",
    "\n",
    "# Count and Index\n",
    "print(fruits.count('kiwi'))  # 1\n",
    "print(fruits.index('grape'))  # 3"
   ]
  },
  {
   "cell_type": "markdown",
   "id": "e0dd2ad5-aa63-4f5f-8592-dbacd76becdb",
   "metadata": {},
   "source": [
    "#  List Operations"
   ]
  },
  {
   "cell_type": "code",
   "execution_count": null,
   "id": "48472923-7316-4250-bbae-a9c25a7afe50",
   "metadata": {},
   "outputs": [],
   "source": [
    "# Concatenation\n",
    "list1 = [1, 2, 3]\n",
    "list2 = [4, 5, 6]\n",
    "concatenated = list1 + list2  # [1, 2, 3, 4, 5, 6]\n",
    "\n",
    "# Repetition\n",
    "repeated = [0] * 3  # [0, 0, 0]\n",
    "\n",
    "# Membership\n",
    "print(2 in list1)  # True\n",
    "print(7 not in list2)  # True"
   ]
  },
  {
   "cell_type": "markdown",
   "id": "a5069405-9b6f-4717-8f37-bbaed06aef2c",
   "metadata": {},
   "source": [
    "### Challenge 1: Insert and Remove\n",
    "\n",
    "1. Create a list named `cars` with the elements: `['Toyota', 'Honda', 'Ford']`.\n",
    "2. Insert the string `'Chevrolet'` at index 1.\n",
    "3. Remove the string `'Ford'` from the list.\n",
    "4. Display the modified list."
   ]
  },
  {
   "cell_type": "code",
   "execution_count": null,
   "id": "b025cea4-4799-49fe-a1e2-dabb3c587175",
   "metadata": {},
   "outputs": [],
   "source": [
    "# WRITE YOUR CODE HERE"
   ]
  },
  {
   "cell_type": "markdown",
   "id": "b88f8227-7cb7-4e20-a8a1-40c5ed948b7a",
   "metadata": {},
   "source": [
    "### Challenge 2: Count and Index\n",
    "\n",
    "1. Create a list named `cars` with the elements: `['Toyota', 'Honda', 'Ford', 'Toyota', 'BMW']`.\n",
    "2. Count how many times the string `'Toyota'` appears in the list.\n",
    "3. Find the index of the string `'BMW'` in the list.\n",
    "4. Display the count and the index."
   ]
  },
  {
   "cell_type": "code",
   "execution_count": null,
   "id": "bd8813ac-a503-4c27-a2ee-c6181e17f518",
   "metadata": {},
   "outputs": [],
   "source": [
    "# WRITE YOUR CODE HERE"
   ]
  },
  {
   "cell_type": "markdown",
   "id": "5a8344a6-3c6a-415d-bd65-0243e7f8f139",
   "metadata": {},
   "source": [
    "### Challenge 3: Sorting and Reversing\n",
    "\n",
    "1. Create a list named `cars` with the elements: `['Toyota', 'Honda', 'Ford', 'BMW', 'Chevrolet']`.\n",
    "2. Sort the list in alphabetical order.\n",
    "3. Reverse the order of the sorted list.\n",
    "4. Display the modified list.\n",
    "5. Display the first element."
   ]
  },
  {
   "cell_type": "code",
   "execution_count": null,
   "id": "48c3f74d-f790-46a7-91ba-4aebba85c4c6",
   "metadata": {},
   "outputs": [],
   "source": [
    "# WRITE YOUR CODE HERE"
   ]
  },
  {
   "cell_type": "markdown",
   "id": "4aeab188-be7f-4b55-87a9-28f6731d382e",
   "metadata": {},
   "source": [
    "### Challenge 4: Append and Extend\n",
    "\n",
    "1. Create a list named `cars` with the elements: `['Toyota', 'Honda', 'Ford']`.\n",
    "2. Append the string `'Nissan'` to the list.\n",
    "3. Extend the list by adding the elements `['Kia', 'Hyundai']`.\n",
    "4. Display the modified list.\n",
    "5. Display the last element."
   ]
  },
  {
   "cell_type": "code",
   "execution_count": null,
   "id": "eb312f3e-816b-4da9-97b5-b457ec9c81a9",
   "metadata": {},
   "outputs": [],
   "source": [
    "# WRITE YOUR CODE HERE"
   ]
  },
  {
   "cell_type": "markdown",
   "id": "037d21c6-bb22-47d4-96d4-cc3b6912b0ad",
   "metadata": {},
   "source": [
    "### Challenge 5: Pop and Clear\n",
    "\n",
    "1. Create a list named `cars` with the elements: `['Toyota', 'Honda', 'Ford', 'BMW', 'Chevrolet']`.\n",
    "2. Pop the last element from the list and display it.\n",
    "3. Clear all elements from the list.\n",
    "4. Display the modified list."
   ]
  },
  {
   "cell_type": "code",
   "execution_count": null,
   "id": "ac2d2181-635b-4b8d-b3a2-f6a34eca47fc",
   "metadata": {},
   "outputs": [],
   "source": [
    "# WRITE YOUR CODE HERE"
   ]
  }
 ],
 "metadata": {
  "kernelspec": {
   "display_name": "Python 3 (ipykernel)",
   "language": "python",
   "name": "python3"
  },
  "language_info": {
   "codemirror_mode": {
    "name": "ipython",
    "version": 3
   },
   "file_extension": ".py",
   "mimetype": "text/x-python",
   "name": "python",
   "nbconvert_exporter": "python",
   "pygments_lexer": "ipython3",
   "version": "3.11.7"
  }
 },
 "nbformat": 4,
 "nbformat_minor": 5
}
