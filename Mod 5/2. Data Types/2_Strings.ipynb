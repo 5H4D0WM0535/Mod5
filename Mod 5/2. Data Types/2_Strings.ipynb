{
 "cells": [
  {
   "cell_type": "markdown",
   "id": "b0fcec01-8162-4348-b614-e66adcb28f94",
   "metadata": {},
   "source": [
    "# Strings\n",
    "\n",
    "A string in programming is a sequence of characters, such as letters, digits, and symbols, enclosed within single quotes (') or double quotes (\"). It represents textual data and is used to store and manipulate text-based information in a program. Strings can include letters, numbers, punctuation marks, and whitespace characters. They are commonly used for tasks like representing words, sentences, file paths, user input, and more. In Python, strings are immutable, meaning their contents cannot be changed after creation, although operations can be performed to manipulate and extract information from them.\r\n"
   ]
  },
  {
   "cell_type": "code",
   "execution_count": null,
   "id": "e5777104-eaf3-43a5-82be-7b3cb05fe5bc",
   "metadata": {},
   "outputs": [],
   "source": [
    "print('Hello, World!')\n",
    "print(\"Hello, World!\")"
   ]
  },
  {
   "cell_type": "markdown",
   "id": "2a456e29-e378-443c-b27b-c213461624fb",
   "metadata": {},
   "source": [
    "## Multiline strings\n",
    "\n",
    "Using 3 single quotes or 3 double qoutes you can make a multiline string."
   ]
  },
  {
   "cell_type": "code",
   "execution_count": null,
   "id": "0133cb74-eb5b-4275-852c-9bef7c67999f",
   "metadata": {},
   "outputs": [],
   "source": [
    "print(\"\"\"This is a\n",
    "multiline string that\n",
    "spans several lines.\"\"\")"
   ]
  },
  {
   "cell_type": "markdown",
   "id": "311e55e9-b17c-4587-acd5-5a1bd751a2a6",
   "metadata": {},
   "source": [
    "## String Concatenation\n",
    "You can concatenate strings using the `+` operator. **This is known as operator overloading**\n",
    "\n",
    "### Example:\n",
    "If you have two strings, \"Hello\" and \"Alice\", concatenating them with a comma and a space results in \"Hello, Alice!\"."
   ]
  },
  {
   "cell_type": "code",
   "execution_count": null,
   "id": "55c1e750-db6c-420f-ae8f-1e81538b3295",
   "metadata": {},
   "outputs": [],
   "source": [
    "str_greeting = 'Hello'\n",
    "str_name = 'Alice!'\n",
    "\n",
    "print(str_greeting + ', ' + str_name)"
   ]
  },
  {
   "cell_type": "markdown",
   "id": "9b2aa968-7aa0-4e3e-8edb-17e28069ed46",
   "metadata": {},
   "source": [
    "## String Repetition\n",
    "You can repeat strings using the `*` operator. **This is known as operator overloading**\n",
    "\n",
    "### Example:\n",
    "Repeating the string \"Ha\" three times results in \"HaHaHa\"."
   ]
  },
  {
   "cell_type": "code",
   "execution_count": null,
   "id": "623056ee-5b19-4fca-91a1-361484961a44",
   "metadata": {},
   "outputs": [],
   "source": [
    "print('Ha' * 3)"
   ]
  },
  {
   "cell_type": "markdown",
   "id": "9b64044b-8461-4d0f-a55d-85e98628123e",
   "metadata": {},
   "source": [
    "## String Indexing\n",
    "Strings are indexed arrays of characters, starting from 0. You can access individual characters using square brackets []. \n",
    "\n",
    "![](indexvalues.png)"
   ]
  },
  {
   "cell_type": "code",
   "execution_count": null,
   "id": "8537412c-67d6-4374-881c-aae3ca77e493",
   "metadata": {},
   "outputs": [],
   "source": [
    "# Example of accessing characters\n",
    "sample_str = \"Python\"\n",
    "\n",
    "print(sample_str[0])  # 'P'\n",
    "\n",
    "last_char = sample_str[-1]  # 'n'\n",
    "print(last_char)\n",
    "\n",
    "print(\"coding\"[0])"
   ]
  },
  {
   "cell_type": "markdown",
   "id": "38bc59bb-6ecc-4e56-9675-d8d598a44dd3",
   "metadata": {},
   "source": [
    "## String Methods\n",
    "Python provides many built-in methods to manipulate strings. **All string methods return new values. They do not change the original string.**\n",
    "Below is an exapmple of how 3 methods work. There are many more and a great resource for these is:\n",
    "<https://www.w3schools.com/python/python_ref_string.asp>\n",
    "\n",
    "### Common Methods:\n",
    "\n",
    "- **`lower()`**: Converts all characters to lowercase.\n",
    "  - Example: \"Python\" becomes \"python\".\n",
    "- **`upper()`**: Converts all characters to uppercase.\n",
    "  - Example: \"Python\" becomes \"PYTHON\".\n",
    "- **`strip()`**: Removes leading and trailing whitespace.\n",
    "  - Example: \"  Python  \" becomes \"Python\"."
   ]
  },
  {
   "cell_type": "code",
   "execution_count": null,
   "id": "da31c9a6-fd6e-4db0-91c6-2c63099a6cae",
   "metadata": {},
   "outputs": [],
   "source": [
    "print(\"Hello, world!\".lower())"
   ]
  },
  {
   "cell_type": "code",
   "execution_count": null,
   "id": "a6a6b1fc-b09d-4769-aa97-c9931e91788c",
   "metadata": {},
   "outputs": [],
   "source": [
    "print(\"Hello, world!\".upper())"
   ]
  },
  {
   "cell_type": "code",
   "execution_count": null,
   "id": "d37b131e-4797-4b90-9378-28140c2ab72f",
   "metadata": {},
   "outputs": [],
   "source": [
    "#Using the W3schools website find a method to make the first letter of the sentance a capital\n",
    "print(\"i'm learning about string methods!\")"
   ]
  },
  {
   "cell_type": "code",
   "execution_count": null,
   "id": "60990999-8e03-448b-af9c-ece37754f1dc",
   "metadata": {},
   "outputs": [],
   "source": [
    "#Using the W3schools website find a method to make the first letter of every word a capital\n",
    "print(\"this is slightly trickey\")"
   ]
  },
  {
   "cell_type": "code",
   "execution_count": null,
   "id": "6197ad46-e3a7-459d-a83a-0139dc391251",
   "metadata": {},
   "outputs": [],
   "source": [
    "#Using the W3schools website find a method to change lower to upper and upper to lower\n",
    "print(\"ThIs Is OdD lOoKiNg!\")"
   ]
  },
  {
   "cell_type": "markdown",
   "id": "54ef6999-9587-43c5-8f90-74eeae996b52",
   "metadata": {},
   "source": [
    "## Raw Strings in Python\n",
    "\n",
    "In Python, a raw string is a string literal prefixed with an `r` or `R`, which indicates that backslashes (`\\`) within the string should be treated as literal characters rather than escape characters. This means that backslashes are not interpreted as part of special escape sequences.\n",
    "\n",
    "### How Raw Strings Work:\n",
    "\n",
    "**Escape Characters in Regular Strings:**\n",
    "In regular Python strings, backslashes (`\\`) are used to escape characters that have special meaning, such as newline (`\\n`), tab (`\\t`), or a literal backslash (`\\\\`). For example:\n",
    "<code>\n",
    "path = \"C:\\Users\\Alice\\Documents\"\n",
    "</code>\n",
    "\n",
    "**Using Raw Strings:**\n",
    "Raw strings are particularly useful when dealing with paths in Windows or regular expressions where backslashes are common. They allow you to write strings that include backslashes without needing to escape each one individually. For example:\n",
    "<code>\n",
    "path = r\"C:\\Users\\Alice\\Documents\"\n",
    "</code>\n",
    "\n",
    "### Summary:\n",
    "Raw strings simplify the writing of strings that contain backslashes, making them useful for specifying file paths, writing regular expressions, and situations where backslashes are common and should be treated literally.\n"
   ]
  },
  {
   "cell_type": "code",
   "execution_count": null,
   "id": "220baa2d-7b1a-4ad8-b83c-6ce6857ea5af",
   "metadata": {},
   "outputs": [],
   "source": [
    "path = \"C:\\Users\\Alice\\Documents\"\n",
    "print(path)"
   ]
  },
  {
   "cell_type": "code",
   "execution_count": null,
   "id": "e28909a4-08fc-47f7-89e2-4b73b9e7a7c6",
   "metadata": {},
   "outputs": [],
   "source": [
    "path = r\"C:\\Users\\Alice\\Documents\"\n",
    "print(path)"
   ]
  },
  {
   "cell_type": "markdown",
   "id": "38e49637-a4c1-4723-9e5d-97b6fd0ecab4",
   "metadata": {},
   "source": [
    "# String Formatting in Python\n",
    "\n",
    "String formatting is the process of embedding variables, expressions, or other strings into a template string. This allows for dynamic and flexible construction of strings based on program data.\n",
    "\n",
    "## String Formatting\n",
    "Python supports several ways to format strings.\n",
    "\n",
    "### Old-style Formatting (% operator):\n",
    "- Example: \"Name: %s, Age: %d\" % (name, age)\n",
    "\n",
    "### New-style Formatting (`str.format()`):\n",
    "- Example: \"Name: {}, Age: {}\".format(name, age)\n",
    "\n",
    "### f-Strings (Python 3.6+):\n",
    "- Example: f\"Name: {name}, Age: {age}\"\n",
    "\n",
    "Pretty much throughout this course I will use f-strings. I find it the most readable and intuative way to place a variable in a string."
   ]
  },
  {
   "cell_type": "markdown",
   "id": "7eb4e956-47e1-48df-95d2-204197656f20",
   "metadata": {},
   "source": [
    "## Escape Characters\n",
    "Special characters in strings can be escaped using a backslash (`\\`).\n",
    "\n",
    "### Common Escape Characters:\n",
    "\n",
    "- `\\'`: Single quote\n",
    "- `\\\"`: Double quote\n",
    "- `\\\\`: Backslash\n",
    "- `\\n`: Newline\n",
    "- `\\t`: Tab"
   ]
  },
  {
   "cell_type": "code",
   "execution_count": null,
   "id": "7729c268-434c-45a9-95da-7d2fd8df17a1",
   "metadata": {},
   "outputs": [],
   "source": [
    "print(\"He said,\\t\\\"Hello, World!\\\"\\nNew \\'line\\'\\\\.\")"
   ]
  },
  {
   "cell_type": "markdown",
   "id": "d35a2752-080e-4d12-8d5d-e539a0662abf",
   "metadata": {},
   "source": [
    "# F-Strings in Python\n",
    "\n",
    "## 1. Basic Variable Substitution\n",
    "You can include variables directly within the string."
   ]
  },
  {
   "cell_type": "code",
   "execution_count": null,
   "id": "0a799cbd-b12e-489f-9384-6c1887104229",
   "metadata": {},
   "outputs": [],
   "source": [
    "name = \"Alice\"\n",
    "age = 25\n",
    "print(f\"My name is {name} and I am {age} years old.\")"
   ]
  },
  {
   "cell_type": "markdown",
   "id": "6c29c579-0a6a-4c98-968b-92bc32f61157",
   "metadata": {},
   "source": [
    "## 2. Expressions and Function Calls\n",
    "F-strings can include expressions and function calls inside the braces."
   ]
  },
  {
   "cell_type": "code",
   "execution_count": null,
   "id": "ae0a62d8-c2a4-4df0-922a-f1455f00b58c",
   "metadata": {},
   "outputs": [],
   "source": [
    "a = 10\n",
    "b = 5\n",
    "print(f\"The sum of {a} and {b} is {a + b}.\")\n",
    "print(f\"The product of {a} and {b} is {a * b}.\")\n",
    "print(f\"2 squared is {2**2}.\")\n",
    "print(f\"The length of 'hello' is {len('hello')}.\")"
   ]
  },
  {
   "cell_type": "markdown",
   "id": "8a861748-beab-45a5-ac40-f34bfc9a7e93",
   "metadata": {},
   "source": [
    "## 3. Formatting Numbers\n",
    "F-strings support various number formatting options, such as specifying the number of decimal places, scientific notation, and more."
   ]
  },
  {
   "cell_type": "code",
   "execution_count": null,
   "id": "0a3a8c64-0f49-4119-8794-cf2d0c9d92f1",
   "metadata": {},
   "outputs": [],
   "source": [
    "pi = 3.141592653589793\n",
    "print(f\"Pi rounded to 2 decimal places is {pi:.2f}.\")\n",
    "print(f\"Pi in scientific notation is {pi:e}.\")"
   ]
  },
  {
   "cell_type": "markdown",
   "id": "3f170a12-ee2d-43d2-a37b-9aa6465ab911",
   "metadata": {},
   "source": [
    "## 4. String Alignment\n",
    "You can align text to the left, center, or right within a specified width."
   ]
  },
  {
   "cell_type": "code",
   "execution_count": null,
   "id": "67a05b24-12e7-4d97-ae69-cfe2b6adbc0b",
   "metadata": {},
   "outputs": [],
   "source": [
    "left = \"Left\"\n",
    "center = \"Center\"\n",
    "right = \"Right\"\n",
    "print(f\"{left:<10}\")  # Left align\n",
    "print(f\"{center:^10}\")  # Center align\n",
    "print(f\"{right:>10}\")  # Right align"
   ]
  },
  {
   "cell_type": "markdown",
   "id": "86cff89f-99b4-4f99-9c7b-8e872083e298",
   "metadata": {},
   "source": [
    "## 5. Padding and Width Specification\n",
    "You can specify the width of the output and pad it with characters."
   ]
  },
  {
   "cell_type": "code",
   "execution_count": null,
   "id": "31fb901f-1a5d-4032-bd5d-a4bfc5a915e8",
   "metadata": {},
   "outputs": [],
   "source": [
    "number = 42\n",
    "print(f\"{number:5}\")  # Default padding with spaces\n",
    "print(f\"{number:05}\")  # Padding with zeros"
   ]
  },
  {
   "cell_type": "markdown",
   "id": "d9915bc8-629e-4866-9562-4d1d4e742491",
   "metadata": {},
   "source": [
    "## 6. Date and Time Formatting\n",
    "You can format date and time objects."
   ]
  },
  {
   "cell_type": "code",
   "execution_count": null,
   "id": "e9cabd52-002f-4207-9f58-86d5e7b8090c",
   "metadata": {},
   "outputs": [],
   "source": [
    "# YOU CAN IGNORE THESE LINES FOR NOW\n",
    "from datetime import datetime\n",
    "now = datetime.now()\n",
    "\n",
    "# You can see many formatting options below.\n",
    "print(f\"Current date and time: {now:%Y-%m-%d %H:%M:%S}\")\n",
    "print(f\"Current date with named month and weekday: {now:%A, %B %d, %Y}\")"
   ]
  },
  {
   "cell_type": "markdown",
   "id": "7d388d93-54fd-45c1-a92e-86749952d2a9",
   "metadata": {},
   "source": [
    "## 7. Raw F-Strings\n",
    "You can combine raw strings and f-strings to avoid escaping backslashes."
   ]
  },
  {
   "cell_type": "code",
   "execution_count": null,
   "id": "2edf20a6-9af9-45a0-84fe-4e2025936926",
   "metadata": {},
   "outputs": [],
   "source": [
    "path = r\"C:\\Users\\Alice\"\n",
    "print(f\"Path: {path}\")"
   ]
  },
  {
   "cell_type": "markdown",
   "id": "f9f9a029-1878-4437-a3bd-d021dc1a6407",
   "metadata": {},
   "source": [
    "## 8. Multiline F-Strings\n",
    "F-strings can span multiple lines, useful for formatting multiline strings."
   ]
  },
  {
   "cell_type": "code",
   "execution_count": null,
   "id": "ac4e5553-e13b-40d5-bfd1-0cc38b3a4970",
   "metadata": {},
   "outputs": [],
   "source": [
    "name = \"Alice\"\n",
    "age = 25\n",
    "message = (\n",
    "    f\"Name: {name}\\n\"\n",
    "    f\"Age: {age}\\n\"\n",
    "    f\"Location: Wonderland\"\n",
    ")\n",
    "print(message)"
   ]
  },
  {
   "cell_type": "markdown",
   "id": "61b1dc87-b4f2-4dca-a319-c960d6c09c2c",
   "metadata": {},
   "source": [
    "## 8. Escaping Braces\n",
    "If you need to include a literal curly brace in the output, you can double the braces."
   ]
  },
  {
   "cell_type": "code",
   "execution_count": null,
   "id": "d2278f8b-da99-42fe-9227-6088858668fa",
   "metadata": {},
   "outputs": [],
   "source": [
    "print(f\"{{This will be printed as a brace}}\")"
   ]
  },
  {
   "cell_type": "code",
   "execution_count": null,
   "id": "0cb0675f-930c-497b-aff9-8fd3f64e8748",
   "metadata": {},
   "outputs": [],
   "source": []
  }
 ],
 "metadata": {
  "kernelspec": {
   "display_name": "Python 3 (ipykernel)",
   "language": "python",
   "name": "python3"
  },
  "language_info": {
   "codemirror_mode": {
    "name": "ipython",
    "version": 3
   },
   "file_extension": ".py",
   "mimetype": "text/x-python",
   "name": "python",
   "nbconvert_exporter": "python",
   "pygments_lexer": "ipython3",
   "version": "3.11.7"
  }
 },
 "nbformat": 4,
 "nbformat_minor": 5
}
