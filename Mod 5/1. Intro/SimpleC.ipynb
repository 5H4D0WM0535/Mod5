{
 "cells": [
  {
   "cell_type": "markdown",
   "id": "e8fe4eb4-1ed6-4661-b93c-d6df128f2218",
   "metadata": {},
   "source": [
    "# 3 Simple C Programs\n",
    "\n",
    "## Hello, world!"
   ]
  },
  {
   "cell_type": "markdown",
   "id": "64f96973-8bbf-4ce1-8c18-0a34541fbe70",
   "metadata": {},
   "source": [
    "```C\n",
    "#include <stdio.h>\n",
    "\n",
    "int main() {\n",
    "    printf(\"Hello, World!\\n\");\n",
    "    return 0;\n",
    "}\n",
    "```"
   ]
  },
  {
   "cell_type": "markdown",
   "id": "9c50117d-835a-4237-b0b0-421ceeda71c8",
   "metadata": {},
   "source": [
    "## Take User Input"
   ]
  },
  {
   "cell_type": "markdown",
   "id": "ca00c4d9-8ae6-4c0a-a939-9ffbda42e85b",
   "metadata": {},
   "source": [
    "```C\n",
    "#include <stdio.h>\n",
    "\n",
    "int main() {\n",
    "    char name[50];\n",
    "    \n",
    "    printf(\"Enter your name: \");\n",
    "    scanf(\"%s\", name);\n",
    "    \n",
    "    printf(\"Hello, %s!\\n\", name);\n",
    "    \n",
    "    return 0;\n",
    "}\n",
    "```"
   ]
  },
  {
   "cell_type": "markdown",
   "id": "9efaddd8-08bd-4a6d-b7d2-8cab0ab88e46",
   "metadata": {},
   "source": [
    "## Command Line Arguments"
   ]
  },
  {
   "cell_type": "markdown",
   "id": "a0a61554-c517-400a-978f-a22a87e91e0d",
   "metadata": {},
   "source": [
    "```C\n",
    "#include <stdio.h>\n",
    "\n",
    "int main(int argc, char *argv[]) {\n",
    "    if (argc < 2) {\n",
    "        printf(\"Usage: %s <name>\\n\", argv[0]);\n",
    "        return 1;\n",
    "    }\n",
    "    \n",
    "    printf(\"Hello, %s!\\n\", argv[1]);\n",
    "    \n",
    "    return 0;\n",
    "}\n",
    "```"
   ]
  },
  {
   "cell_type": "code",
   "execution_count": null,
   "id": "78fb0900-c65d-42a3-81b3-a76d489eb4bb",
   "metadata": {},
   "outputs": [],
   "source": []
  }
 ],
 "metadata": {
  "kernelspec": {
   "display_name": "Python 3 (ipykernel)",
   "language": "python",
   "name": "python3"
  },
  "language_info": {
   "codemirror_mode": {
    "name": "ipython",
    "version": 3
   },
   "file_extension": ".py",
   "mimetype": "text/x-python",
   "name": "python",
   "nbconvert_exporter": "python",
   "pygments_lexer": "ipython3",
   "version": "3.11.7"
  }
 },
 "nbformat": 4,
 "nbformat_minor": 5
}
