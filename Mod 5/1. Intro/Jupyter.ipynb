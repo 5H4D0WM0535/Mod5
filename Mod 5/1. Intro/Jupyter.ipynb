{
 "cells": [
  {
   "cell_type": "markdown",
   "id": "d2fe586d-5e8e-4f7f-b8a7-aadae8d86805",
   "metadata": {},
   "source": [
    "# Getting Started with Jupyter\r\n",
    "\r\n",
    "## Launching Jupyter Notebook\r\n",
    "To launch Jupyter Notebook, open a terminal or command prompt and type `jupyter notebook`. This will start the Jupyter server and open a new tab in your default web browser with the Notebook Dashboa It can also be launched from the Anaconda Naviagtor rd.\r\n",
    "\r\n",
    "## Notebook Dashboard\r\n",
    "The Notebook Dashboard is the landing page when you start Jupyter Notebook. It provides an overview of your file system and allows you to navigate through your directories, create new notebooks, and open existing ones.\r\n",
    "\r\n",
    "## Creating a New Notebook\r\n",
    "To create a new notebook, click on the \"New\" button in the top right corner of the Notebook Dashboard and select \"Python 3\" (or any other kernel you want to use). This will open a new notebook in a new tab.\r\n",
    "\r\n",
    "## Notebook Interface Overview\r\n",
    "The Notebook Interface consists of different components:\r\n",
    "- Menu Bar: Contains various options for editing, running, and managing notebooks.\r\n",
    "- Toolbar: Provides quick access to commonly used actions such as running cells, adding new cells, and saving notebooks.\r\n",
    "- Notebook Cells: The main content area where you write and execute code (code cells) or write formatted text (Markdown cells).\r\n",
    "\r\n",
    "# Markdown Cells\r\n",
    "\r\n",
    "## Introduction to Markdown\r\n",
    "Markdown is a lightweight markup language that allows you to format text using simple syntax. It's widely used for writing documentation, README files, and creating content in Jupyter Notebooks.\r\n",
    "\r\n",
    "## Formatting Text\r\n",
    "You can format text using Markdown syntax:\r\n",
    "- Headings: Use `#` for headings (e.g., `# Heading 1`, `## Heading 2`, etc.).\r\n",
    "- Lists: Use `-` or `*` for unordered lists and `1.`, `2.`, etc. for ordered lists.\r\n",
    "- Emphasis: Use `*italic*` oold**` for emphasis.\r\n",
    "- ...\r\n",
    "\r\n",
    "## Adding Links and Images\r\n",
    "You can add links using `[link text](URL)` syntax and images using `![alt text](image URL)` syntax.\r\n",
    "\r\n",
    "## Using LaTeX for Mathematical Notation\r\n",
    "Markdown cells support LaTeX for mathematical notation. Enclose LaTeX code within `$...$` for inline equations or `$$...$$` for display equations.\r\n",
    "\r\n",
    "## HTML in Markdown Cells\r\n",
    "You can also use HTML tags in Markdown cells for advanced formatting if Markdown syntax is not sufficient.\r\n",
    "\r\n",
    "# Code Cells\r\n",
    "\r\n",
    "## Writing and Executing Code\r\n",
    "Code cells allow you to write and execute code. To execute a code cell, press Shift + Enter or click the \"Run\" button in the toolbar.\r\n",
    "\r\n",
    "## Keyboard Shortcuts\r\n",
    "There are several keyboard shortcuts for executing code cells, navigating through cells, and managing the notebook interface. You can access the list of shortcuts by pressing H in command mode.\r\n",
    "\r\n",
    "## Interrupting and Restarting the Kernel\r\n",
    "If your code is taking too long to execute or is stuck in an infinite loop, you can interrupt the kernel by pressing the stop button in the toolbar. You can also restart the kernel to clear the current state by clicking the \"Kernel\" menu and selecting \"Restart\".\r\n",
    "\r\n",
    "## Managing Cell Outputs\r\n",
    "You can manage cell outputs using the options in the toolbar. You can clear outputs, toggle output scrolling, and collapse/expand output areas.\r\n"
   ]
  },
  {
   "cell_type": "code",
   "execution_count": null,
   "id": "56f1a77b-01fa-410e-ac0b-d757a84deddf",
   "metadata": {},
   "outputs": [],
   "source": []
  }
 ],
 "metadata": {
  "kernelspec": {
   "display_name": "Python 3 (ipykernel)",
   "language": "python",
   "name": "python3"
  },
  "language_info": {
   "codemirror_mode": {
    "name": "ipython",
    "version": 3
   },
   "file_extension": ".py",
   "mimetype": "text/x-python",
   "name": "python",
   "nbconvert_exporter": "python",
   "pygments_lexer": "ipython3",
   "version": "3.11.7"
  }
 },
 "nbformat": 4,
 "nbformat_minor": 5
}
