{
 "cells": [
  {
   "cell_type": "markdown",
   "id": "22a72f7a-ddab-456d-8563-129dd3854cf8",
   "metadata": {},
   "source": [
    "### Variables, Naming Conventions, and Memory Addresses in Python\n",
    "\n",
    "#### Variables\n",
    "\n",
    "In programming, variables are used to store data that can be referenced and manipulated throughout a program. Variables act as placeholders for values and can be updated or reused as needed.\n",
    "\n",
    "- **Declaration**: Variables are declared by assigning a value to a name using the equals sign (`=`).\n",
    "- **Types**: Variables can hold various types of data, including integers, floating-point numbers, strings, lists, dictionaries, and more.\n"
   ]
  },
  {
   "cell_type": "code",
   "execution_count": null,
   "id": "584e7852-6436-4c6f-841c-69cdc13a5c93",
   "metadata": {},
   "outputs": [],
   "source": [
    "# Example:\n",
    "age = 25\n",
    "name = \"Alice\"\n",
    "is_student = True\n"
   ]
  },
  {
   "cell_type": "markdown",
   "id": "f4734a31-9124-4bf0-8b44-ad161709b553",
   "metadata": {},
   "source": [
    "#### Naming Conventions\n",
    "\n",
    "Naming conventions are guidelines that help make code more readable and maintainable. Consistent naming makes it easier for others (and yourself) to understand what a variable represents and how it should be used.\n",
    "\n",
    "##### General Rules:\n",
    "- **Descriptive Names**: Choose names that clearly describe the variable's purpose or content.\n"
   ]
  },
  {
   "cell_type": "code",
   "execution_count": null,
   "id": "1f86dea4-53ad-43e9-98c1-9a6205d461d4",
   "metadata": {},
   "outputs": [],
   "source": [
    "# Example:\n",
    "total_price = 100.50\n",
    "user_name = \"John\"\n"
   ]
  },
  {
   "cell_type": "markdown",
   "id": "c9f2d247-e6b5-4614-aaae-4a53e107d20e",
   "metadata": {},
   "source": [
    "- **Case Sensitivity**: Variable names in Python are case-sensitive, meaning `myVar` and `myvar` are different variables.\n",
    "- **Avoid Reserved Words**: Do not use Python's reserved words (keywords) as variable names (e.g., `class`, `def`, `if`).\n",
    "\n",
    "##### Specific Conventions:\n",
    "- **Snake Case**: Use `snake_case` for variable names, where words are separated by underscores (`_`).\n"
   ]
  },
  {
   "cell_type": "code",
   "execution_count": null,
   "id": "b58930f8-9140-4a6c-b080-4bb4a4e13212",
   "metadata": {},
   "outputs": [],
   "source": [
    "# Example:\n",
    "first_name = \"Alice\"\n",
    "last_name = \"Smith\"\n",
    "total_amount_due = 150.75\n"
   ]
  },
  {
   "cell_type": "markdown",
   "id": "b31a88c6-a1d1-40af-8989-b18168394775",
   "metadata": {},
   "source": [
    "- **Camel Case**: Not commonly used for variables in Python but often seen in other languages. Each word starts with a capital letter except the first word.\n"
   ]
  },
  {
   "cell_type": "code",
   "execution_count": null,
   "id": "04cd01c7-2e4f-430a-9c8d-1e511e961807",
   "metadata": {},
   "outputs": [],
   "source": [
    "# Example:\n",
    "firstName = \"Alice\"\n",
    "lastName = \"Smith\"\n",
    "totalAmountDue = 150.75\n"
   ]
  },
  {
   "cell_type": "markdown",
   "id": "b8bf67b5-94f7-4748-9e80-ff4b5417f818",
   "metadata": {},
   "source": [
    "- **Uppercase with Underscores**: Use `UPPERCASE_WITH_UNDERSCORES` for constants (variables that should not change).\n"
   ]
  },
  {
   "cell_type": "code",
   "execution_count": null,
   "id": "da950049-b745-4422-88d9-580f9ae8482f",
   "metadata": {},
   "outputs": [],
   "source": [
    "# Example:\n",
    "MAX_CONNECTIONS = 100\n",
    "PI = 3.14159\n"
   ]
  },
  {
   "cell_type": "markdown",
   "id": "f50238fa-39f8-468a-8d5b-d198005bd667",
   "metadata": {},
   "source": [
    "#### Examples:\n"
   ]
  },
  {
   "cell_type": "code",
   "execution_count": null,
   "id": "58457027-7eec-4f65-af14-74f0240b4fa8",
   "metadata": {},
   "outputs": [],
   "source": [
    "# Valid variable names\n",
    "age = 25\n",
    "user_name = \"JohnDoe\"\n",
    "total_price = 99.99\n",
    "is_active = True"
   ]
  },
  {
   "cell_type": "markdown",
   "id": "de555e1c-c3da-4273-b250-a75d50aaed2d",
   "metadata": {},
   "source": [
    "#### Bad Examples:"
   ]
  },
  {
   "cell_type": "code",
   "execution_count": null,
   "id": "b0681b17-48f4-470f-94d5-68b462ee28cb",
   "metadata": {},
   "outputs": [],
   "source": [
    "# Invalid variable names do not run this cell\n",
    "1st_place = \"Alice\"  # Starts with a number\n",
    "user-name = \"JohnDoe\"  # Contains a hyphen\n",
    "class = \"Physics\"  # Reserved keyword"
   ]
  },
  {
   "cell_type": "markdown",
   "id": "a282e88d-84f9-4f45-807c-4a0db7b8919a",
   "metadata": {},
   "source": [
    "### Memory Addresses in Python\n",
    "\n",
    "#### What is a Memory Address?\n",
    "\n",
    "In computing, a memory address is a unique identifier for a location in memory where data is stored. When you create a variable in Python, it is stored in a specific location in the computer's memory, and the variable name points to that location.\n",
    "\n",
    "#### Variables and Memory Addresses\n",
    "\n",
    "Every variable in Python holds a reference to an object, and this reference is essentially a memory address. You can use the `id()` function in Python to get the memory address of an object.\n",
    "\n",
    "#### Why Memory Addresses Matter\n",
    "\n",
    "- **Understanding References**: Knowing about memory addresses helps you understand how variables reference objects.\n",
    "- **Efficiency**: Helps in understanding the efficiency of certain operations, like copying data.\n",
    "- **Mutable vs. Immutable Types**: Understanding how Python handles memory can clarify the behavior of mutable and immutable types.\n",
    "\n",
    "#### Example:\n"
   ]
  },
  {
   "cell_type": "code",
   "execution_count": null,
   "id": "92c4e70d-7a44-4f9b-bacc-212a69a12176",
   "metadata": {},
   "outputs": [],
   "source": [
    "# Example of using the id() function to get memory addresses\n",
    "x = 10\n",
    "y = x\n",
    "\n",
    "print(\"Memory address of x:\", id(x))\n",
    "print(\"Memory address of y:\", id(y))\n",
    "\n",
    "# Change the value of y\n",
    "y = 20\n",
    "print(\"Memory address of y after changing value:\", id(y))\n",
    "\n",
    "\n",
    "# Example with mutable type\n",
    "a = [1, 2, 3]\n",
    "b = a\n",
    "\n",
    "print(\"Memory address of a:\", id(a))\n",
    "print(\"Memory address of b:\", id(b))\n",
    "\n",
    "# Modify the list\n",
    "b.append(4)\n",
    "print(\"Memory address of a after modification:\", id(a))\n",
    "print(\"Memory address of b after modification:\", id(b))\n",
    "print(\"a:\", a)\n",
    "print(\"b:\", b)\n"
   ]
  },
  {
   "cell_type": "markdown",
   "id": "771ee9fe-cac2-40ad-bcfe-c2e1a21bb746",
   "metadata": {},
   "source": [
    "### Detailed Explanation\n",
    "\n",
    "1. **Immutable Types**:\n",
    "   - For immutable types like integers, strings, and tuples, the memory address of the variable changes when the value is modified because a new object is created.\n",
    "   - In the example, `x` and `y` initially point to the same integer object with a value of 10. When `y` is changed to 20, it points to a new object with a different memory address.\n",
    "\n",
    "2. **Mutable Types**:\n",
    "   - For mutable types like lists, dictionaries, and sets, the memory address of the variable remains the same when the object is modified. This is because the object itself is modified in place.\n",
    "   - In the example, `a` and `b` initially point to the same list object. When `b` is modified by appending a new element, both `a` and `b` still point to the same list object, so their memory addresses remain the same.\n",
    "\n",
    "#### Practical Implications\n",
    "\n",
    "- **Copying**: When you assign one variable to another (e.g., `y = x`), both variables point to the same memory address. This means they reference the same object.\n",
    "- **Mutable Changes**: For mutable types, changing the content through one variable will affect the other if they reference the same object.\n",
    "- **Garbage Collection**: Python automatically manages memory using a system called garbage collection, which frees up memory when objects are no longer in use.\n",
    "\n",
    "Understanding memory addresses and references helps in writing efficient and bug-free code, especially when dealing with large data structures and complex objects.\n"
   ]
  },
  {
   "cell_type": "markdown",
   "id": "11fa9da4-c72d-4903-a91e-f291bd398a43",
   "metadata": {},
   "source": [
    "### Understanding `None` in Python\n",
    "\n",
    "#### What is `None`?\n",
    "\n",
    "In Python, `None` is a special constant that represents the absence of a value or a null value. It is an object of its own datatype, the `NoneType`. `None` is often used to signify 'nothing' or 'no value here'.\n",
    "\n",
    "#### Usage of `None`\n",
    "\n",
    "- **Default Function Return Value**: If a function does not return a value, it implicitly returns `None`.\n",
    "- **Placeholder**: `None` can be used as a placeholder for optional or default arguments in functions.\n",
    "- **Checking for Null**: `None` is commonly used in comparisons to check if a variable has been assigned a value or not."
   ]
  },
  {
   "cell_type": "code",
   "execution_count": null,
   "id": "1ae3981b-2170-448d-900e-531d7b0ec568",
   "metadata": {},
   "outputs": [],
   "source": [
    "my_var = None\n",
    "\n",
    "print(type(my_var))"
   ]
  },
  {
   "cell_type": "markdown",
   "id": "4566e335-c0ee-442a-801c-d2db518d2bb2",
   "metadata": {},
   "source": [
    "#### Key Points about `None`\n",
    "\n",
    "- **Singleton**: There is only one instance of `None` in a Python runtime, which makes it a singleton.\n",
    "- **Type**: The type of `None` is `NoneType`.\n",
    "- **Comparisons**: `None` should be compared using the `is` operator, not `==`. This is because `None` is a singleton and the `is` operator checks for identity, not equality."
   ]
  },
  {
   "cell_type": "code",
   "execution_count": null,
   "id": "179e5911-5550-4d5b-be9d-2972e2b2f4ca",
   "metadata": {},
   "outputs": [],
   "source": []
  }
 ],
 "metadata": {
  "kernelspec": {
   "display_name": "Python 3 (ipykernel)",
   "language": "python",
   "name": "python3"
  },
  "language_info": {
   "codemirror_mode": {
    "name": "ipython",
    "version": 3
   },
   "file_extension": ".py",
   "mimetype": "text/x-python",
   "name": "python",
   "nbconvert_exporter": "python",
   "pygments_lexer": "ipython3",
   "version": "3.11.7"
  }
 },
 "nbformat": 4,
 "nbformat_minor": 5
}
